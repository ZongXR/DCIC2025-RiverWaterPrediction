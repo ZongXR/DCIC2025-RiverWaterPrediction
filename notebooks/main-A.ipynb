{
 "cells": [
  {
   "cell_type": "markdown",
   "id": "efa91d6d",
   "metadata": {},
   "source": [
    "<h3>导入包</h3>"
   ]
  },
  {
   "cell_type": "code",
   "execution_count": 74,
   "id": "def0faff",
   "metadata": {
    "ExecuteTime": {
     "end_time": "2025-03-04T02:11:11.790991Z",
     "start_time": "2025-03-04T02:11:11.776841Z"
    }
   },
   "outputs": [],
   "source": [
    "import os\n",
    "import re\n",
    "import logging\n",
    "from datetime import datetime, date\n",
    "import numpy as np\n",
    "import pandas as pd\n",
    "from pandas import Series, DataFrame\n",
    "from sklearn.model_selection import train_test_split\n",
    "from sklearn.model_selection import StratifiedKFold, KFold\n",
    "from sklearn.metrics import mean_squared_error\n",
    "import xgboost as xgb\n",
    "from xgboost import DMatrix\n",
    "import lightgbm as lgb\n",
    "from lightgbm import Dataset\n",
    "import matplotlib.pyplot as plt\n",
    "from tqdm.notebook import tqdm\n",
    "\n",
    "\n",
    "logging.basicConfig(format='%(asctime)s : %(levelname)s : %(message)s', level=logging.INFO)"
   ]
  },
  {
   "cell_type": "markdown",
   "id": "e6cbf94c",
   "metadata": {},
   "source": [
    "<h3>读取数据</h3>"
   ]
  },
  {
   "cell_type": "code",
   "execution_count": 75,
   "id": "95824996",
   "metadata": {
    "ExecuteTime": {
     "end_time": "2025-03-04T02:11:16.868415Z",
     "start_time": "2025-03-04T02:11:12.233410Z"
    }
   },
   "outputs": [
    {
     "name": "stderr",
     "output_type": "stream",
     "text": [
      "2025-03-04 10:11:16,852 : INFO : 雨量水位数据(3252327, 14)\n",
      "2025-03-04 10:11:16,852 : INFO : 入库流量数据(52561, 14)\n"
     ]
    }
   ],
   "source": [
    "train_rain = pd.read_csv(\"../data/A榜/train/A-雨量水位（2014-2019）.csv\")\n",
    "train_label = pd.read_csv(\"../data/A榜/train/A-入库流量（2014-2019）.csv\")\n",
    "test_train = pd.read_csv(\"../data/A榜/test/A-雨量水位（2020-2021）.csv\")\n",
    "logging.info(f\"训练集雨量水位数据{train_rain.shape}\")\n",
    "logging.info(f\"训练集入库流量数据{train_label.shape}\")\n",
    "logging.info(f\"测试集雨量水位数据{test_train.shape}\")"
   ]
  },
  {
   "cell_type": "markdown",
   "id": "489bcc73",
   "metadata": {},
   "source": [
    "<h3>数据预处理</h3>"
   ]
  },
  {
   "cell_type": "markdown",
   "id": "c6c2593a",
   "metadata": {},
   "source": [
    "<h4>时间预处理</h4>"
   ]
  },
  {
   "cell_type": "code",
   "execution_count": 76,
   "id": "ec8caed0",
   "metadata": {
    "ExecuteTime": {
     "end_time": "2025-03-04T02:11:20.248142Z",
     "start_time": "2025-03-04T02:11:17.293912Z"
    }
   },
   "outputs": [],
   "source": [
    "train_rain[\"TIME\"] = pd.to_datetime(train_rain[\"TIME\"])\n",
    "train_rain[\"year\"] = train_rain[\"TIME\"].dt.year\n",
    "train_rain[\"month\"] = train_rain[\"TIME\"].dt.month\n",
    "train_rain[\"day\"] = train_rain[\"TIME\"].dt.day\n",
    "train_rain[\"hour\"] = train_rain[\"TIME\"].dt.hour\n",
    "train_rain[\"minute\"] = train_rain[\"TIME\"].dt.minute\n",
    "train_rain[\"second\"] = train_rain[\"TIME\"].dt.second\n",
    "train_rain = train_rain.sort_values([\"SENID\", \"TIME\"])\n",
    "\n",
    "train_label[\"TIME\"] = pd.to_datetime(train_label[\"TIME\"])\n",
    "train_label[\"year\"] = train_label[\"TIME\"].dt.year\n",
    "train_label[\"month\"] = train_label[\"TIME\"].dt.month\n",
    "train_label[\"day\"] = train_label[\"TIME\"].dt.day\n",
    "train_label[\"hour\"] = train_label[\"TIME\"].dt.hour\n",
    "train_label[\"minute\"] = train_label[\"TIME\"].dt.minute\n",
    "train_label[\"second\"] = train_label[\"TIME\"].dt.second\n",
    "train_label = train_label.sort_values(\"TIME\")\n",
    "\n",
    "test_train[\"TIME\"] = pd.to_datetime(test_train[\"TIME\"])\n",
    "test_train = test_train.sort_values(\"TIME\")"
   ]
  },
  {
   "cell_type": "markdown",
   "id": "e2fb251d",
   "metadata": {},
   "source": [
    "<h4>处理异常值</h4>"
   ]
  },
  {
   "cell_type": "code",
   "execution_count": 77,
   "id": "767adb1c",
   "metadata": {
    "ExecuteTime": {
     "end_time": "2025-03-04T02:11:22.407796Z",
     "start_time": "2025-03-04T02:11:20.674719Z"
    }
   },
   "outputs": [],
   "source": [
    "train_rain[train_rain[[\"V\", \"AVGV\", \"MAXV\", \"MINV\", \"S\", \"AVGS\", \"MAXS\", \"MINS\"]] < 0] = np.nan\n",
    "train_label[train_label[[\"V\", \"AVGV\", \"MAXV\", \"MINV\", \"S\", \"AVGS\", \"MAXS\", \"MINS\"]] < 0] = np.nan\n",
    "test_train[test_rain[[\"V\", \"AVGV\", \"MAXV\", \"MINV\", \"S\", \"AVGS\", \"MAXS\", \"MINS\"]] < 0] = np.nan"
   ]
  },
  {
   "cell_type": "markdown",
   "id": "1ac2cbbf",
   "metadata": {},
   "source": [
    "<h3>特征工程</h3>"
   ]
  },
  {
   "cell_type": "markdown",
   "id": "84122359",
   "metadata": {},
   "source": [
    "<h4>不同站点横向拼接</h4>"
   ]
  },
  {
   "cell_type": "code",
   "execution_count": 78,
   "id": "3080da31",
   "metadata": {
    "ExecuteTime": {
     "end_time": "2025-03-04T02:11:29.073715Z",
     "start_time": "2025-03-04T02:11:22.826697Z"
    }
   },
   "outputs": [
    {
     "data": {
      "application/vnd.jupyter.widget-view+json": {
       "model_id": "2b029b538a1140dba9fae9cc1546e1c0",
       "version_major": 2,
       "version_minor": 0
      },
      "text/plain": [
       "  0%|          | 0/109 [00:00<?, ?it/s]"
      ]
     },
     "metadata": {},
     "output_type": "display_data"
    }
   ],
   "source": [
    "train_rain_group_by_senids = []\n",
    "for senid, df in tqdm(train_rain.groupby(\"SENID\")):\n",
    "    df = pd.merge(df, train_label[[\"TIME\"]], how=\"outer\", on=\"TIME\").sort_values(\"TIME\")\n",
    "    df = df.set_index(\"TIME\", drop=True)\n",
    "    df = df.drop(columns=[\"NAME\", \"SENID\", \"MAXT\", \"MINT\", \"year\", \"month\", \"day\", \"hour\", \"minute\", \"second\"])\n",
    "    df = df.interpolate(method=\"time\")\n",
    "    df = df.reindex(train_label[\"TIME\"])\n",
    "    df = df.rename(columns={k: f\"{k}_{senid}\" for k in df.columns})\n",
    "    train_rain_group_by_senids.append(df)"
   ]
  },
  {
   "cell_type": "code",
   "execution_count": 79,
   "id": "7f4f67b4",
   "metadata": {
    "ExecuteTime": {
     "end_time": "2025-03-04T02:11:29.616077Z",
     "start_time": "2025-03-04T02:11:29.514970Z"
    }
   },
   "outputs": [
    {
     "data": {
      "text/html": [
       "<div>\n",
       "<style scoped>\n",
       "    .dataframe tbody tr th:only-of-type {\n",
       "        vertical-align: middle;\n",
       "    }\n",
       "\n",
       "    .dataframe tbody tr th {\n",
       "        vertical-align: top;\n",
       "    }\n",
       "\n",
       "    .dataframe thead th {\n",
       "        text-align: right;\n",
       "    }\n",
       "</style>\n",
       "<table border=\"1\" class=\"dataframe\">\n",
       "  <thead>\n",
       "    <tr style=\"text-align: right;\">\n",
       "      <th></th>\n",
       "      <th>V_210254</th>\n",
       "      <th>AVGV_210254</th>\n",
       "      <th>MAXV_210254</th>\n",
       "      <th>MINV_210254</th>\n",
       "      <th>S_210254</th>\n",
       "      <th>AVGS_210254</th>\n",
       "      <th>MAXS_210254</th>\n",
       "      <th>MINS_210254</th>\n",
       "      <th>SPAN_210254</th>\n",
       "      <th>V_210454</th>\n",
       "      <th>...</th>\n",
       "      <th>SPAN_1510454</th>\n",
       "      <th>V_1610254</th>\n",
       "      <th>AVGV_1610254</th>\n",
       "      <th>MAXV_1610254</th>\n",
       "      <th>MINV_1610254</th>\n",
       "      <th>S_1610254</th>\n",
       "      <th>AVGS_1610254</th>\n",
       "      <th>MAXS_1610254</th>\n",
       "      <th>MINS_1610254</th>\n",
       "      <th>SPAN_1610254</th>\n",
       "    </tr>\n",
       "    <tr>\n",
       "      <th>TIME</th>\n",
       "      <th></th>\n",
       "      <th></th>\n",
       "      <th></th>\n",
       "      <th></th>\n",
       "      <th></th>\n",
       "      <th></th>\n",
       "      <th></th>\n",
       "      <th></th>\n",
       "      <th></th>\n",
       "      <th></th>\n",
       "      <th></th>\n",
       "      <th></th>\n",
       "      <th></th>\n",
       "      <th></th>\n",
       "      <th></th>\n",
       "      <th></th>\n",
       "      <th></th>\n",
       "      <th></th>\n",
       "      <th></th>\n",
       "      <th></th>\n",
       "      <th></th>\n",
       "    </tr>\n",
       "  </thead>\n",
       "  <tbody>\n",
       "    <tr>\n",
       "      <th>2014-01-01 00:00:00</th>\n",
       "      <td>NaN</td>\n",
       "      <td>NaN</td>\n",
       "      <td>NaN</td>\n",
       "      <td>NaN</td>\n",
       "      <td>NaN</td>\n",
       "      <td>NaN</td>\n",
       "      <td>NaN</td>\n",
       "      <td>NaN</td>\n",
       "      <td>NaN</td>\n",
       "      <td>NaN</td>\n",
       "      <td>...</td>\n",
       "      <td>NaN</td>\n",
       "      <td>0.0</td>\n",
       "      <td>NaN</td>\n",
       "      <td>NaN</td>\n",
       "      <td>NaN</td>\n",
       "      <td>2.0</td>\n",
       "      <td>2.0</td>\n",
       "      <td>2.0</td>\n",
       "      <td>2.0</td>\n",
       "      <td>1.0</td>\n",
       "    </tr>\n",
       "    <tr>\n",
       "      <th>2014-01-01 01:00:00</th>\n",
       "      <td>NaN</td>\n",
       "      <td>NaN</td>\n",
       "      <td>NaN</td>\n",
       "      <td>NaN</td>\n",
       "      <td>NaN</td>\n",
       "      <td>NaN</td>\n",
       "      <td>NaN</td>\n",
       "      <td>NaN</td>\n",
       "      <td>NaN</td>\n",
       "      <td>NaN</td>\n",
       "      <td>...</td>\n",
       "      <td>NaN</td>\n",
       "      <td>0.0</td>\n",
       "      <td>NaN</td>\n",
       "      <td>NaN</td>\n",
       "      <td>NaN</td>\n",
       "      <td>2.0</td>\n",
       "      <td>2.0</td>\n",
       "      <td>2.0</td>\n",
       "      <td>2.0</td>\n",
       "      <td>1.0</td>\n",
       "    </tr>\n",
       "    <tr>\n",
       "      <th>2014-01-01 02:00:00</th>\n",
       "      <td>NaN</td>\n",
       "      <td>NaN</td>\n",
       "      <td>NaN</td>\n",
       "      <td>NaN</td>\n",
       "      <td>NaN</td>\n",
       "      <td>NaN</td>\n",
       "      <td>NaN</td>\n",
       "      <td>NaN</td>\n",
       "      <td>NaN</td>\n",
       "      <td>NaN</td>\n",
       "      <td>...</td>\n",
       "      <td>NaN</td>\n",
       "      <td>0.0</td>\n",
       "      <td>NaN</td>\n",
       "      <td>NaN</td>\n",
       "      <td>NaN</td>\n",
       "      <td>2.0</td>\n",
       "      <td>2.0</td>\n",
       "      <td>2.0</td>\n",
       "      <td>2.0</td>\n",
       "      <td>1.0</td>\n",
       "    </tr>\n",
       "    <tr>\n",
       "      <th>2014-01-01 03:00:00</th>\n",
       "      <td>NaN</td>\n",
       "      <td>NaN</td>\n",
       "      <td>NaN</td>\n",
       "      <td>NaN</td>\n",
       "      <td>NaN</td>\n",
       "      <td>NaN</td>\n",
       "      <td>NaN</td>\n",
       "      <td>NaN</td>\n",
       "      <td>NaN</td>\n",
       "      <td>NaN</td>\n",
       "      <td>...</td>\n",
       "      <td>NaN</td>\n",
       "      <td>0.0</td>\n",
       "      <td>NaN</td>\n",
       "      <td>NaN</td>\n",
       "      <td>NaN</td>\n",
       "      <td>2.0</td>\n",
       "      <td>2.0</td>\n",
       "      <td>2.0</td>\n",
       "      <td>2.0</td>\n",
       "      <td>1.0</td>\n",
       "    </tr>\n",
       "    <tr>\n",
       "      <th>2014-01-01 04:00:00</th>\n",
       "      <td>NaN</td>\n",
       "      <td>NaN</td>\n",
       "      <td>NaN</td>\n",
       "      <td>NaN</td>\n",
       "      <td>NaN</td>\n",
       "      <td>NaN</td>\n",
       "      <td>NaN</td>\n",
       "      <td>NaN</td>\n",
       "      <td>NaN</td>\n",
       "      <td>NaN</td>\n",
       "      <td>...</td>\n",
       "      <td>NaN</td>\n",
       "      <td>0.0</td>\n",
       "      <td>NaN</td>\n",
       "      <td>NaN</td>\n",
       "      <td>NaN</td>\n",
       "      <td>2.0</td>\n",
       "      <td>2.0</td>\n",
       "      <td>2.0</td>\n",
       "      <td>2.0</td>\n",
       "      <td>1.0</td>\n",
       "    </tr>\n",
       "    <tr>\n",
       "      <th>...</th>\n",
       "      <td>...</td>\n",
       "      <td>...</td>\n",
       "      <td>...</td>\n",
       "      <td>...</td>\n",
       "      <td>...</td>\n",
       "      <td>...</td>\n",
       "      <td>...</td>\n",
       "      <td>...</td>\n",
       "      <td>...</td>\n",
       "      <td>...</td>\n",
       "      <td>...</td>\n",
       "      <td>...</td>\n",
       "      <td>...</td>\n",
       "      <td>...</td>\n",
       "      <td>...</td>\n",
       "      <td>...</td>\n",
       "      <td>...</td>\n",
       "      <td>...</td>\n",
       "      <td>...</td>\n",
       "      <td>...</td>\n",
       "      <td>...</td>\n",
       "    </tr>\n",
       "    <tr>\n",
       "      <th>2019-12-31 19:00:00</th>\n",
       "      <td>0.0</td>\n",
       "      <td>1.0</td>\n",
       "      <td>1.0</td>\n",
       "      <td>1.0</td>\n",
       "      <td>2.0</td>\n",
       "      <td>1.0</td>\n",
       "      <td>2.0</td>\n",
       "      <td>2.0</td>\n",
       "      <td>1.0</td>\n",
       "      <td>0.0</td>\n",
       "      <td>...</td>\n",
       "      <td>1.0</td>\n",
       "      <td>0.0</td>\n",
       "      <td>2.0</td>\n",
       "      <td>1.0</td>\n",
       "      <td>0.0</td>\n",
       "      <td>2.0</td>\n",
       "      <td>2.0</td>\n",
       "      <td>2.0</td>\n",
       "      <td>2.0</td>\n",
       "      <td>1.0</td>\n",
       "    </tr>\n",
       "    <tr>\n",
       "      <th>2019-12-31 20:00:00</th>\n",
       "      <td>0.0</td>\n",
       "      <td>1.0</td>\n",
       "      <td>1.0</td>\n",
       "      <td>1.0</td>\n",
       "      <td>2.0</td>\n",
       "      <td>1.0</td>\n",
       "      <td>2.0</td>\n",
       "      <td>2.0</td>\n",
       "      <td>1.0</td>\n",
       "      <td>0.0</td>\n",
       "      <td>...</td>\n",
       "      <td>1.0</td>\n",
       "      <td>0.0</td>\n",
       "      <td>2.0</td>\n",
       "      <td>1.0</td>\n",
       "      <td>0.0</td>\n",
       "      <td>2.0</td>\n",
       "      <td>2.0</td>\n",
       "      <td>2.0</td>\n",
       "      <td>2.0</td>\n",
       "      <td>1.0</td>\n",
       "    </tr>\n",
       "    <tr>\n",
       "      <th>2019-12-31 21:00:00</th>\n",
       "      <td>0.0</td>\n",
       "      <td>1.0</td>\n",
       "      <td>1.0</td>\n",
       "      <td>1.0</td>\n",
       "      <td>2.0</td>\n",
       "      <td>1.0</td>\n",
       "      <td>2.0</td>\n",
       "      <td>2.0</td>\n",
       "      <td>1.0</td>\n",
       "      <td>0.0</td>\n",
       "      <td>...</td>\n",
       "      <td>1.0</td>\n",
       "      <td>0.0</td>\n",
       "      <td>2.0</td>\n",
       "      <td>1.0</td>\n",
       "      <td>0.0</td>\n",
       "      <td>2.0</td>\n",
       "      <td>2.0</td>\n",
       "      <td>2.0</td>\n",
       "      <td>2.0</td>\n",
       "      <td>1.0</td>\n",
       "    </tr>\n",
       "    <tr>\n",
       "      <th>2019-12-31 22:00:00</th>\n",
       "      <td>0.0</td>\n",
       "      <td>1.0</td>\n",
       "      <td>1.0</td>\n",
       "      <td>1.0</td>\n",
       "      <td>2.0</td>\n",
       "      <td>1.0</td>\n",
       "      <td>2.0</td>\n",
       "      <td>2.0</td>\n",
       "      <td>1.0</td>\n",
       "      <td>0.0</td>\n",
       "      <td>...</td>\n",
       "      <td>1.0</td>\n",
       "      <td>0.0</td>\n",
       "      <td>2.0</td>\n",
       "      <td>1.0</td>\n",
       "      <td>0.0</td>\n",
       "      <td>2.0</td>\n",
       "      <td>2.0</td>\n",
       "      <td>2.0</td>\n",
       "      <td>2.0</td>\n",
       "      <td>1.0</td>\n",
       "    </tr>\n",
       "    <tr>\n",
       "      <th>2019-12-31 23:00:00</th>\n",
       "      <td>0.0</td>\n",
       "      <td>1.0</td>\n",
       "      <td>1.0</td>\n",
       "      <td>1.0</td>\n",
       "      <td>2.0</td>\n",
       "      <td>1.0</td>\n",
       "      <td>2.0</td>\n",
       "      <td>2.0</td>\n",
       "      <td>1.0</td>\n",
       "      <td>0.0</td>\n",
       "      <td>...</td>\n",
       "      <td>1.0</td>\n",
       "      <td>0.0</td>\n",
       "      <td>2.0</td>\n",
       "      <td>1.0</td>\n",
       "      <td>0.0</td>\n",
       "      <td>2.0</td>\n",
       "      <td>2.0</td>\n",
       "      <td>2.0</td>\n",
       "      <td>2.0</td>\n",
       "      <td>1.0</td>\n",
       "    </tr>\n",
       "  </tbody>\n",
       "</table>\n",
       "<p>52561 rows × 981 columns</p>\n",
       "</div>"
      ],
      "text/plain": [
       "                     V_210254  AVGV_210254  MAXV_210254  MINV_210254  \\\n",
       "TIME                                                                   \n",
       "2014-01-01 00:00:00       NaN          NaN          NaN          NaN   \n",
       "2014-01-01 01:00:00       NaN          NaN          NaN          NaN   \n",
       "2014-01-01 02:00:00       NaN          NaN          NaN          NaN   \n",
       "2014-01-01 03:00:00       NaN          NaN          NaN          NaN   \n",
       "2014-01-01 04:00:00       NaN          NaN          NaN          NaN   \n",
       "...                       ...          ...          ...          ...   \n",
       "2019-12-31 19:00:00       0.0          1.0          1.0          1.0   \n",
       "2019-12-31 20:00:00       0.0          1.0          1.0          1.0   \n",
       "2019-12-31 21:00:00       0.0          1.0          1.0          1.0   \n",
       "2019-12-31 22:00:00       0.0          1.0          1.0          1.0   \n",
       "2019-12-31 23:00:00       0.0          1.0          1.0          1.0   \n",
       "\n",
       "                     S_210254  AVGS_210254  MAXS_210254  MINS_210254  \\\n",
       "TIME                                                                   \n",
       "2014-01-01 00:00:00       NaN          NaN          NaN          NaN   \n",
       "2014-01-01 01:00:00       NaN          NaN          NaN          NaN   \n",
       "2014-01-01 02:00:00       NaN          NaN          NaN          NaN   \n",
       "2014-01-01 03:00:00       NaN          NaN          NaN          NaN   \n",
       "2014-01-01 04:00:00       NaN          NaN          NaN          NaN   \n",
       "...                       ...          ...          ...          ...   \n",
       "2019-12-31 19:00:00       2.0          1.0          2.0          2.0   \n",
       "2019-12-31 20:00:00       2.0          1.0          2.0          2.0   \n",
       "2019-12-31 21:00:00       2.0          1.0          2.0          2.0   \n",
       "2019-12-31 22:00:00       2.0          1.0          2.0          2.0   \n",
       "2019-12-31 23:00:00       2.0          1.0          2.0          2.0   \n",
       "\n",
       "                     SPAN_210254  V_210454  ...  SPAN_1510454  V_1610254  \\\n",
       "TIME                                        ...                            \n",
       "2014-01-01 00:00:00          NaN       NaN  ...           NaN        0.0   \n",
       "2014-01-01 01:00:00          NaN       NaN  ...           NaN        0.0   \n",
       "2014-01-01 02:00:00          NaN       NaN  ...           NaN        0.0   \n",
       "2014-01-01 03:00:00          NaN       NaN  ...           NaN        0.0   \n",
       "2014-01-01 04:00:00          NaN       NaN  ...           NaN        0.0   \n",
       "...                          ...       ...  ...           ...        ...   \n",
       "2019-12-31 19:00:00          1.0       0.0  ...           1.0        0.0   \n",
       "2019-12-31 20:00:00          1.0       0.0  ...           1.0        0.0   \n",
       "2019-12-31 21:00:00          1.0       0.0  ...           1.0        0.0   \n",
       "2019-12-31 22:00:00          1.0       0.0  ...           1.0        0.0   \n",
       "2019-12-31 23:00:00          1.0       0.0  ...           1.0        0.0   \n",
       "\n",
       "                     AVGV_1610254  MAXV_1610254  MINV_1610254  S_1610254  \\\n",
       "TIME                                                                       \n",
       "2014-01-01 00:00:00           NaN           NaN           NaN        2.0   \n",
       "2014-01-01 01:00:00           NaN           NaN           NaN        2.0   \n",
       "2014-01-01 02:00:00           NaN           NaN           NaN        2.0   \n",
       "2014-01-01 03:00:00           NaN           NaN           NaN        2.0   \n",
       "2014-01-01 04:00:00           NaN           NaN           NaN        2.0   \n",
       "...                           ...           ...           ...        ...   \n",
       "2019-12-31 19:00:00           2.0           1.0           0.0        2.0   \n",
       "2019-12-31 20:00:00           2.0           1.0           0.0        2.0   \n",
       "2019-12-31 21:00:00           2.0           1.0           0.0        2.0   \n",
       "2019-12-31 22:00:00           2.0           1.0           0.0        2.0   \n",
       "2019-12-31 23:00:00           2.0           1.0           0.0        2.0   \n",
       "\n",
       "                     AVGS_1610254  MAXS_1610254  MINS_1610254  SPAN_1610254  \n",
       "TIME                                                                         \n",
       "2014-01-01 00:00:00           2.0           2.0           2.0           1.0  \n",
       "2014-01-01 01:00:00           2.0           2.0           2.0           1.0  \n",
       "2014-01-01 02:00:00           2.0           2.0           2.0           1.0  \n",
       "2014-01-01 03:00:00           2.0           2.0           2.0           1.0  \n",
       "2014-01-01 04:00:00           2.0           2.0           2.0           1.0  \n",
       "...                           ...           ...           ...           ...  \n",
       "2019-12-31 19:00:00           2.0           2.0           2.0           1.0  \n",
       "2019-12-31 20:00:00           2.0           2.0           2.0           1.0  \n",
       "2019-12-31 21:00:00           2.0           2.0           2.0           1.0  \n",
       "2019-12-31 22:00:00           2.0           2.0           2.0           1.0  \n",
       "2019-12-31 23:00:00           2.0           2.0           2.0           1.0  \n",
       "\n",
       "[52561 rows x 981 columns]"
      ]
     },
     "execution_count": 79,
     "metadata": {},
     "output_type": "execute_result"
    }
   ],
   "source": [
    "train_rain_group_by_senid = pd.concat(train_rain_group_by_senids, axis=1)\n",
    "train_rain_group_by_senid"
   ]
  },
  {
   "cell_type": "markdown",
   "id": "2e4af7f2",
   "metadata": {},
   "source": [
    "<h4>整理标签</h4>"
   ]
  },
  {
   "cell_type": "code",
   "execution_count": 80,
   "id": "f949c3ce",
   "metadata": {
    "ExecuteTime": {
     "end_time": "2025-03-04T02:11:30.032659Z",
     "start_time": "2025-03-04T02:11:30.026660Z"
    }
   },
   "outputs": [],
   "source": [
    "train_label = train_label.set_index(\"TIME\", drop=True)"
   ]
  },
  {
   "cell_type": "markdown",
   "id": "a7a9bb4b",
   "metadata": {},
   "source": [
    "<h4>合并标签和特征</h4>"
   ]
  },
  {
   "cell_type": "code",
   "execution_count": 81,
   "id": "017a6250",
   "metadata": {
    "ExecuteTime": {
     "end_time": "2025-03-04T02:11:30.545487Z",
     "start_time": "2025-03-04T02:11:30.457120Z"
    }
   },
   "outputs": [],
   "source": [
    "train_data = pd.merge(train_rain_group_by_senid, train_label[[\"V\"]], how=\"inner\", left_index=True, right_index=True)"
   ]
  },
  {
   "cell_type": "markdown",
   "id": "a6b4555d",
   "metadata": {},
   "source": [
    "<h3>训练模型</h3>"
   ]
  },
  {
   "cell_type": "markdown",
   "id": "ae653e1e",
   "metadata": {
    "ExecuteTime": {
     "end_time": "2025-03-04T01:41:07.517917Z",
     "start_time": "2025-03-04T01:41:07.489800Z"
    }
   },
   "source": [
    "<h4>评测指标</h4>"
   ]
  },
  {
   "cell_type": "code",
   "execution_count": 82,
   "id": "00ee1039",
   "metadata": {
    "ExecuteTime": {
     "end_time": "2025-03-04T02:11:30.990866Z",
     "start_time": "2025-03-04T02:11:30.979086Z"
    }
   },
   "outputs": [],
   "source": [
    "def score(y_true, y_pred):\n",
    "    mse = mean_squared_error(y_true, y_pred)\n",
    "    rmse = np.sqrt(mse)\n",
    "    return 1 / (1 + rmse)"
   ]
  },
  {
   "cell_type": "markdown",
   "id": "7f1759de",
   "metadata": {},
   "source": [
    "<h4>lightgbm模型</h4>"
   ]
  },
  {
   "cell_type": "code",
   "execution_count": 83,
   "id": "358d335b",
   "metadata": {
    "ExecuteTime": {
     "end_time": "2025-03-04T02:11:31.456225Z",
     "start_time": "2025-03-04T02:11:31.438690Z"
    }
   },
   "outputs": [],
   "source": [
    "params_lgb = {\n",
    "    \"num_boost_round\": 1000,\n",
    "    'learning_rate': 0.02,\n",
    "    'boosting_type': 'gbdt',\n",
    "    'objective': 'mse',\n",
    "    'metric': 'rmse',\n",
    "    'num_leaves': 127,\n",
    "    'verbose': -1,\n",
    "    'seed': 42,\n",
    "    'n_jobs': -1,\n",
    "    'feature_fraction': 0.8,\n",
    "    'bagging_fraction': 0.9,\n",
    "    'bagging_freq': 4,\n",
    "    \"early_stopping_round\": 100\n",
    "}\n",
    "model_lgb = []"
   ]
  },
  {
   "cell_type": "markdown",
   "id": "b38143cd",
   "metadata": {},
   "source": [
    "<h4>xgboost模型</h4>"
   ]
  },
  {
   "cell_type": "code",
   "execution_count": 84,
   "id": "396b5d7b",
   "metadata": {
    "ExecuteTime": {
     "end_time": "2025-03-04T02:11:31.886766Z",
     "start_time": "2025-03-04T02:11:31.880974Z"
    }
   },
   "outputs": [],
   "source": [
    "params_xgb = {\n",
    "    \"num_boost_round\": 500,\n",
    "    \"learning_rate\": 0.02,\n",
    "    \"booster\": \"gbtree\",\n",
    "    \"objective\": \"reg:squarederror\",\n",
    "    \"eval_metric\": \"rmse\",\n",
    "    \"max_leaves\": 127,\n",
    "    \"verbosity\": 1,\n",
    "    \"seed\": 42,\n",
    "    \"nthread\": -1,\n",
    "    \"colsample_bytree\": 0.6,\n",
    "    \"subsample\": 0.7,\n",
    "    \"early_stopping_rounds\": 100\n",
    "}\n",
    "model_xgb = []"
   ]
  },
  {
   "cell_type": "markdown",
   "id": "b5d3f837",
   "metadata": {},
   "source": [
    "<h4>交叉验证</h4>"
   ]
  },
  {
   "cell_type": "code",
   "execution_count": 85,
   "id": "423b332d",
   "metadata": {
    "ExecuteTime": {
     "end_time": "2025-03-04T02:20:27.549340Z",
     "start_time": "2025-03-04T02:11:32.342934Z"
    }
   },
   "outputs": [
    {
     "name": "stderr",
     "output_type": "stream",
     "text": [
      "2025-03-04 10:11:32,581 : INFO : ############ fold: 0 ###########\n",
      "C:\\Program Files\\Python310\\lib\\site-packages\\lightgbm\\engine.py:172: UserWarning: Found `num_boost_round` in params. Will use it instead of argument\n",
      "  _log_warning(f\"Found `{alias}` in params. Will use it instead of argument\")\n"
     ]
    },
    {
     "name": "stdout",
     "output_type": "stream",
     "text": [
      "[1000]\ttraining's rmse: 454.074\tvalid_1's rmse: 681.159\n",
      "[10:12:04] WARNING: C:\\buildkite-agent\\builds\\buildkite-windows-cpu-autoscaling-group-i-0fdc6d574b9c0d168-1\\xgboost\\xgboost-ci-windows\\src\\learner.cc:767: \n",
      "Parameters: { \"early_stopping_rounds\", \"num_boost_round\" } are not used.\n",
      "\n",
      "[0]\ttrain-rmse:2757.43373\teval-rmse:2749.91546\n",
      "[499]\ttrain-rmse:739.10956\teval-rmse:827.97103\n"
     ]
    },
    {
     "name": "stderr",
     "output_type": "stream",
     "text": [
      "2025-03-04 10:13:12,353 : INFO : ############ fold: 1 ###########\n",
      "C:\\Program Files\\Python310\\lib\\site-packages\\lightgbm\\engine.py:172: UserWarning: Found `num_boost_round` in params. Will use it instead of argument\n",
      "  _log_warning(f\"Found `{alias}` in params. Will use it instead of argument\")\n"
     ]
    },
    {
     "name": "stdout",
     "output_type": "stream",
     "text": [
      "[1000]\ttraining's rmse: 453.181\tvalid_1's rmse: 675.713\n",
      "[10:13:46] WARNING: C:\\buildkite-agent\\builds\\buildkite-windows-cpu-autoscaling-group-i-0fdc6d574b9c0d168-1\\xgboost\\xgboost-ci-windows\\src\\learner.cc:767: \n",
      "Parameters: { \"early_stopping_rounds\", \"num_boost_round\" } are not used.\n",
      "\n",
      "[0]\ttrain-rmse:2746.91308\teval-rmse:2787.50116\n",
      "[499]\ttrain-rmse:740.63957\teval-rmse:809.90219\n"
     ]
    },
    {
     "name": "stderr",
     "output_type": "stream",
     "text": [
      "2025-03-04 10:14:58,161 : INFO : ############ fold: 2 ###########\n",
      "C:\\Program Files\\Python310\\lib\\site-packages\\lightgbm\\engine.py:172: UserWarning: Found `num_boost_round` in params. Will use it instead of argument\n",
      "  _log_warning(f\"Found `{alias}` in params. Will use it instead of argument\")\n"
     ]
    },
    {
     "name": "stdout",
     "output_type": "stream",
     "text": [
      "[1000]\ttraining's rmse: 454.601\tvalid_1's rmse: 681.448\n",
      "[10:15:34] WARNING: C:\\buildkite-agent\\builds\\buildkite-windows-cpu-autoscaling-group-i-0fdc6d574b9c0d168-1\\xgboost\\xgboost-ci-windows\\src\\learner.cc:767: \n",
      "Parameters: { \"early_stopping_rounds\", \"num_boost_round\" } are not used.\n",
      "\n",
      "[0]\ttrain-rmse:2750.46100\teval-rmse:2775.75243\n",
      "[499]\ttrain-rmse:738.78601\teval-rmse:836.30121\n"
     ]
    },
    {
     "name": "stderr",
     "output_type": "stream",
     "text": [
      "2025-03-04 10:16:47,366 : INFO : ############ fold: 3 ###########\n",
      "C:\\Program Files\\Python310\\lib\\site-packages\\lightgbm\\engine.py:172: UserWarning: Found `num_boost_round` in params. Will use it instead of argument\n",
      "  _log_warning(f\"Found `{alias}` in params. Will use it instead of argument\")\n"
     ]
    },
    {
     "name": "stdout",
     "output_type": "stream",
     "text": [
      "[1000]\ttraining's rmse: 453.032\tvalid_1's rmse: 677.088\n",
      "[10:17:22] WARNING: C:\\buildkite-agent\\builds\\buildkite-windows-cpu-autoscaling-group-i-0fdc6d574b9c0d168-1\\xgboost\\xgboost-ci-windows\\src\\learner.cc:767: \n",
      "Parameters: { \"early_stopping_rounds\", \"num_boost_round\" } are not used.\n",
      "\n",
      "[0]\ttrain-rmse:2766.98441\teval-rmse:2708.42582\n",
      "[499]\ttrain-rmse:743.27528\teval-rmse:824.46869\n"
     ]
    },
    {
     "name": "stderr",
     "output_type": "stream",
     "text": [
      "2025-03-04 10:18:35,689 : INFO : ############ fold: 4 ###########\n",
      "C:\\Program Files\\Python310\\lib\\site-packages\\lightgbm\\engine.py:172: UserWarning: Found `num_boost_round` in params. Will use it instead of argument\n",
      "  _log_warning(f\"Found `{alias}` in params. Will use it instead of argument\")\n"
     ]
    },
    {
     "name": "stdout",
     "output_type": "stream",
     "text": [
      "[1000]\ttraining's rmse: 454.539\tvalid_1's rmse: 669.662\n",
      "[10:19:13] WARNING: C:\\buildkite-agent\\builds\\buildkite-windows-cpu-autoscaling-group-i-0fdc6d574b9c0d168-1\\xgboost\\xgboost-ci-windows\\src\\learner.cc:767: \n",
      "Parameters: { \"early_stopping_rounds\", \"num_boost_round\" } are not used.\n",
      "\n",
      "[0]\ttrain-rmse:2755.11470\teval-rmse:2756.25535\n",
      "[499]\ttrain-rmse:740.53061\teval-rmse:819.78828\n"
     ]
    },
    {
     "name": "stderr",
     "output_type": "stream",
     "text": [
      "2025-03-04 10:20:27,542 : INFO : --------------本地分数 0.0013756916315924193--------------\n"
     ]
    }
   ],
   "source": [
    "kfold = KFold(n_splits=5, random_state=42, shuffle=True)\n",
    "\n",
    "x = train_data.fillna(0).astype(np.float32)\n",
    "y = x.pop(\"V\")\n",
    "mse = 0\n",
    "for fold, (train_index, val_index) in enumerate(kfold.split(x, y)):\n",
    "    logging.info(f'############ fold: {fold} ###########')\n",
    "    x_train, x_val, y_train, y_val = x.iloc[train_index], x.iloc[val_index], y.iloc[train_index], y.iloc[val_index]\n",
    "    \n",
    "    trainset = Dataset(x_train, y_train)\n",
    "    valset = Dataset(x_val, y_val)\n",
    "    model = lgb.train(params_lgb, trainset, valid_sets=[trainset, valset], callbacks=[lgb.log_evaluation(1000)])\n",
    "    model.save_model(\"../models/lgb_%d.txt\" % fold)\n",
    "    model_lgb.append(model)\n",
    "    lgb_pred = Series(model.predict(x_val, num_iteration=model.best_iteration), index=y_val.index).fillna(0)\n",
    "    \n",
    "    trainset = DMatrix(x_train, y_train, enable_categorical=True, nthread=-1)\n",
    "    valset = DMatrix(x_val, y_val, enable_categorical=True, nthread=-1)\n",
    "    model = xgb.train(params_xgb, trainset, evals=[(trainset, 'train'),(valset, 'eval')], num_boost_round=params_xgb[\"num_boost_round\"], early_stopping_rounds=params_xgb[\"early_stopping_rounds\"], verbose_eval=1000)\n",
    "    model.save_model(\"../models/xgb_%d.json\" % fold)\n",
    "    model_xgb.append(model)\n",
    "    xgb_pred = Series(model.predict(valset, iteration_range=(0, model.best_ntree_limit)), index=y_val.index).fillna(0)\n",
    "    \n",
    "    val_pred = (lgb_pred + xgb_pred) / 2\n",
    "    mse += mean_squared_error(y_val.fillna(0), val_pred)\n",
    "rmse = np.sqrt(mse / kfold.n_splits)\n",
    "score = 1 / (1 + rmse)\n",
    "logging.info(f\"--------------本地分数 {score}--------------\")"
   ]
  },
  {
   "cell_type": "code",
   "execution_count": null,
   "id": "64ac1366",
   "metadata": {},
   "outputs": [],
   "source": []
  },
  {
   "cell_type": "code",
   "execution_count": null,
   "id": "4a486648",
   "metadata": {},
   "outputs": [],
   "source": []
  },
  {
   "cell_type": "code",
   "execution_count": null,
   "id": "8a311908",
   "metadata": {},
   "outputs": [],
   "source": []
  },
  {
   "cell_type": "code",
   "execution_count": null,
   "id": "d57c8819",
   "metadata": {},
   "outputs": [],
   "source": []
  },
  {
   "cell_type": "markdown",
   "id": "e2a5d4c2",
   "metadata": {},
   "source": [
    "<h3>探索性数据分析</h3>"
   ]
  },
  {
   "cell_type": "code",
   "execution_count": 36,
   "id": "a61e2e70",
   "metadata": {
    "ExecuteTime": {
     "end_time": "2025-03-03T07:38:57.377969Z",
     "start_time": "2025-03-03T07:38:57.364050Z"
    }
   },
   "outputs": [
    {
     "name": "stdout",
     "output_type": "stream",
     "text": [
      "<class 'pandas.core.frame.DataFrame'>\n",
      "RangeIndex: 3252327 entries, 0 to 3252326\n",
      "Data columns (total 20 columns):\n",
      " #   Column  Dtype         \n",
      "---  ------  -----         \n",
      " 0   NAME    object        \n",
      " 1   SENID   int64         \n",
      " 2   TIME    datetime64[ns]\n",
      " 3   V       float64       \n",
      " 4   AVGV    float64       \n",
      " 5   MAXV    float64       \n",
      " 6   MAXT    object        \n",
      " 7   MINV    float64       \n",
      " 8   MINT    object        \n",
      " 9   S       float64       \n",
      " 10  AVGS    float64       \n",
      " 11  MAXS    float64       \n",
      " 12  MINS    float64       \n",
      " 13  SPAN    int64         \n",
      " 14  year    int32         \n",
      " 15  month   int32         \n",
      " 16  day     int32         \n",
      " 17  hour    int32         \n",
      " 18  minute  int32         \n",
      " 19  second  int32         \n",
      "dtypes: datetime64[ns](1), float64(8), int32(6), int64(2), object(3)\n",
      "memory usage: 421.8+ MB\n"
     ]
    }
   ],
   "source": [
    "train_rain.info()"
   ]
  },
  {
   "cell_type": "code",
   "execution_count": 37,
   "id": "e6b1111a",
   "metadata": {
    "ExecuteTime": {
     "end_time": "2025-03-03T07:38:57.408971Z",
     "start_time": "2025-03-03T07:38:57.378972Z"
    }
   },
   "outputs": [],
   "source": [
    "train_rain_one = train_rain[(train_rain[\"SENID\"] == 210254) & (train_rain[\"year\"] == 2015) & (train_rain[\"month\"] == 9) & (train_rain[\"day\"] == 26)]"
   ]
  },
  {
   "cell_type": "code",
   "execution_count": 38,
   "id": "1b9df1ae",
   "metadata": {
    "ExecuteTime": {
     "end_time": "2025-03-03T07:38:57.423976Z",
     "start_time": "2025-03-03T07:38:57.410970Z"
    }
   },
   "outputs": [
    {
     "data": {
      "text/plain": [
       "(1, 20)"
      ]
     },
     "execution_count": 38,
     "metadata": {},
     "output_type": "execute_result"
    }
   ],
   "source": [
    "train_rain_one.shape"
   ]
  },
  {
   "cell_type": "code",
   "execution_count": 39,
   "id": "da1c6301",
   "metadata": {
    "ExecuteTime": {
     "end_time": "2025-03-03T07:38:57.439970Z",
     "start_time": "2025-03-03T07:38:57.424971Z"
    }
   },
   "outputs": [
    {
     "data": {
      "text/html": [
       "<div>\n",
       "<style scoped>\n",
       "    .dataframe tbody tr th:only-of-type {\n",
       "        vertical-align: middle;\n",
       "    }\n",
       "\n",
       "    .dataframe tbody tr th {\n",
       "        vertical-align: top;\n",
       "    }\n",
       "\n",
       "    .dataframe thead th {\n",
       "        text-align: right;\n",
       "    }\n",
       "</style>\n",
       "<table border=\"1\" class=\"dataframe\">\n",
       "  <thead>\n",
       "    <tr style=\"text-align: right;\">\n",
       "      <th></th>\n",
       "      <th>NAME</th>\n",
       "      <th>SENID</th>\n",
       "      <th>TIME</th>\n",
       "      <th>V</th>\n",
       "      <th>AVGV</th>\n",
       "      <th>MAXV</th>\n",
       "      <th>MAXT</th>\n",
       "      <th>MINV</th>\n",
       "      <th>MINT</th>\n",
       "      <th>S</th>\n",
       "      <th>AVGS</th>\n",
       "      <th>MAXS</th>\n",
       "      <th>MINS</th>\n",
       "      <th>SPAN</th>\n",
       "      <th>year</th>\n",
       "      <th>month</th>\n",
       "      <th>day</th>\n",
       "      <th>hour</th>\n",
       "      <th>minute</th>\n",
       "      <th>second</th>\n",
       "    </tr>\n",
       "  </thead>\n",
       "  <tbody>\n",
       "    <tr>\n",
       "      <th>15828</th>\n",
       "      <td>下洋坂雨量</td>\n",
       "      <td>210254</td>\n",
       "      <td>2015-09-26 03:00:00</td>\n",
       "      <td>1.0</td>\n",
       "      <td>1.0</td>\n",
       "      <td>1.0</td>\n",
       "      <td>2015/9/26 3:00:00</td>\n",
       "      <td>1.0</td>\n",
       "      <td>2015/9/26 3:00:00</td>\n",
       "      <td>1.0</td>\n",
       "      <td>1.0</td>\n",
       "      <td>2.0</td>\n",
       "      <td>2.0</td>\n",
       "      <td>1</td>\n",
       "      <td>2015</td>\n",
       "      <td>9</td>\n",
       "      <td>26</td>\n",
       "      <td>3</td>\n",
       "      <td>0</td>\n",
       "      <td>0</td>\n",
       "    </tr>\n",
       "  </tbody>\n",
       "</table>\n",
       "</div>"
      ],
      "text/plain": [
       "        NAME   SENID                TIME    V  AVGV  MAXV               MAXT  \\\n",
       "15828  下洋坂雨量  210254 2015-09-26 03:00:00  1.0   1.0   1.0  2015/9/26 3:00:00   \n",
       "\n",
       "       MINV               MINT    S  AVGS  MAXS  MINS  SPAN  year  month  day  \\\n",
       "15828   1.0  2015/9/26 3:00:00  1.0   1.0   2.0   2.0     1  2015      9   26   \n",
       "\n",
       "       hour  minute  second  \n",
       "15828     3       0       0  "
      ]
     },
     "execution_count": 39,
     "metadata": {},
     "output_type": "execute_result"
    }
   ],
   "source": [
    "train_rain_one.sort_values(\"TIME\")"
   ]
  },
  {
   "cell_type": "code",
   "execution_count": null,
   "id": "e06ccd26",
   "metadata": {},
   "outputs": [],
   "source": []
  }
 ],
 "metadata": {
  "kernelspec": {
   "display_name": "Python 3 (ipykernel)",
   "language": "python",
   "name": "python3"
  },
  "language_info": {
   "codemirror_mode": {
    "name": "ipython",
    "version": 3
   },
   "file_extension": ".py",
   "mimetype": "text/x-python",
   "name": "python",
   "nbconvert_exporter": "python",
   "pygments_lexer": "ipython3",
   "version": "3.10.11"
  },
  "toc": {
   "base_numbering": 1,
   "nav_menu": {},
   "number_sections": true,
   "sideBar": true,
   "skip_h1_title": false,
   "title_cell": "Table of Contents",
   "title_sidebar": "Contents",
   "toc_cell": false,
   "toc_position": {
    "height": "calc(100% - 180px)",
    "left": "10px",
    "top": "150px",
    "width": "409.588px"
   },
   "toc_section_display": true,
   "toc_window_display": true
  },
  "varInspector": {
   "cols": {
    "lenName": 16,
    "lenType": 16,
    "lenVar": 40
   },
   "kernels_config": {
    "python": {
     "delete_cmd_postfix": "",
     "delete_cmd_prefix": "del ",
     "library": "var_list.py",
     "varRefreshCmd": "print(var_dic_list())"
    },
    "r": {
     "delete_cmd_postfix": ") ",
     "delete_cmd_prefix": "rm(",
     "library": "var_list.r",
     "varRefreshCmd": "cat(var_dic_list()) "
    }
   },
   "types_to_exclude": [
    "module",
    "function",
    "builtin_function_or_method",
    "instance",
    "_Feature"
   ],
   "window_display": false
  }
 },
 "nbformat": 4,
 "nbformat_minor": 5
}
