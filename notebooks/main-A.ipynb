{
 "cells": [
  {
   "cell_type": "markdown",
   "id": "efa91d6d",
   "metadata": {},
   "source": [
    "<h3>导入包</h3>"
   ]
  },
  {
   "cell_type": "code",
   "execution_count": 25,
   "id": "def0faff",
   "metadata": {
    "ExecuteTime": {
     "end_time": "2025-03-10T06:43:14.826755Z",
     "start_time": "2025-03-10T06:43:14.810823Z"
    }
   },
   "outputs": [],
   "source": [
    "import os\n",
    "import re\n",
    "import logging\n",
    "from typing import Optional, List, Dict\n",
    "from datetime import datetime, date\n",
    "import numpy as np\n",
    "import pandas as pd\n",
    "from pandas import Series, DataFrame, DateOffset\n",
    "from sklearn.model_selection import train_test_split\n",
    "from sklearn.model_selection import StratifiedKFold, KFold\n",
    "from sklearn.metrics import mean_squared_error\n",
    "import xgboost as xgb\n",
    "from xgboost import DMatrix\n",
    "import lightgbm as lgb\n",
    "from lightgbm import Dataset\n",
    "import matplotlib.pyplot as plt\n",
    "from tqdm.notebook import tqdm\n",
    "\n",
    "\n",
    "logging.basicConfig(format='%(asctime)s : %(levelname)s : %(message)s', level=logging.INFO)"
   ]
  },
  {
   "cell_type": "markdown",
   "id": "e6cbf94c",
   "metadata": {},
   "source": [
    "<h3>读取数据</h3>"
   ]
  },
  {
   "cell_type": "code",
   "execution_count": 26,
   "id": "95824996",
   "metadata": {
    "ExecuteTime": {
     "end_time": "2025-03-10T06:43:21.054064Z",
     "start_time": "2025-03-10T06:43:14.827754Z"
    }
   },
   "outputs": [
    {
     "name": "stderr",
     "output_type": "stream",
     "text": [
      "C:\\Users\\DrZon\\AppData\\Local\\Temp\\ipykernel_11516\\1184140694.py:3: DtypeWarning: Columns (6,8) have mixed types. Specify dtype option on import or set low_memory=False.\n",
      "  test_rain = pd.read_csv(\"../data/A榜/test/A-雨量水位（2020-2021）.csv\")\n",
      "2025-03-10 14:43:21,043 : INFO : 训练集雨量水位数据(3252327, 14)\n",
      "2025-03-10 14:43:21,043 : INFO : 训练集入库流量数据(52561, 14)\n",
      "2025-03-10 14:43:21,044 : INFO : 测试集雨量水位数据(1312180, 14)\n",
      "2025-03-10 14:43:21,045 : INFO : 提交样例(17544, 2)\n"
     ]
    }
   ],
   "source": [
    "train_rain = pd.read_csv(\"../data/A榜/train/A-雨量水位（2014-2019）.csv\")\n",
    "train_label = pd.read_csv(\"../data/A榜/train/A-入库流量（2014-2019）.csv\")\n",
    "test_rain = pd.read_csv(\"../data/A榜/test/A-雨量水位（2020-2021）.csv\")\n",
    "test_label = DataFrame(index=pd.date_range(start=\"2020-01-01 00:00:00\", end=\"2021-12-31 23:00:00\", freq=\"H\"), columns=[\"V\"]).reset_index().rename(columns={\"index\": \"TIME\"})\n",
    "logging.info(f\"训练集雨量水位数据{train_rain.shape}\")\n",
    "logging.info(f\"训练集入库流量数据{train_label.shape}\")\n",
    "logging.info(f\"测试集雨量水位数据{test_rain.shape}\")\n",
    "logging.info(f\"提交样例{test_label.shape}\")"
   ]
  },
  {
   "cell_type": "markdown",
   "id": "489bcc73",
   "metadata": {},
   "source": [
    "<h3>数据预处理</h3>"
   ]
  },
  {
   "cell_type": "markdown",
   "id": "c6c2593a",
   "metadata": {},
   "source": [
    "<h4>时间预处理</h4>"
   ]
  },
  {
   "cell_type": "code",
   "execution_count": 27,
   "id": "638cbc3d",
   "metadata": {
    "ExecuteTime": {
     "end_time": "2025-03-10T06:43:21.069069Z",
     "start_time": "2025-03-10T06:43:21.056065Z"
    }
   },
   "outputs": [],
   "source": [
    "def process_time(df: DataFrame, sort_keys: Optional[List] = None) -> DataFrame:\n",
    "    \"\"\"\n",
    "    处理时间\\n\n",
    "    \"\"\"\n",
    "    result = df.copy()\n",
    "    result[\"TIME\"] = pd.to_datetime(result[\"TIME\"])\n",
    "    result[\"year\"] = result[\"TIME\"].dt.year\n",
    "    result[\"month\"] = result[\"TIME\"].dt.month\n",
    "    result[\"day\"] = result[\"TIME\"].dt.day\n",
    "    result[\"hour\"] = result[\"TIME\"].dt.hour\n",
    "    result[\"minute\"] = result[\"TIME\"].dt.minute\n",
    "    result[\"second\"] = result[\"TIME\"].dt.second\n",
    "    if sort_keys:\n",
    "        return result.sort_values(sort_keys)\n",
    "    else:\n",
    "        return result"
   ]
  },
  {
   "cell_type": "code",
   "execution_count": 28,
   "id": "303f34be",
   "metadata": {
    "ExecuteTime": {
     "end_time": "2025-03-10T06:43:25.258555Z",
     "start_time": "2025-03-10T06:43:21.071063Z"
    }
   },
   "outputs": [],
   "source": [
    "train_rain = process_time(train_rain, [\"SENID\", \"TIME\"])\n",
    "train_label = process_time(train_label, [\"TIME\"])\n",
    "test_rain = process_time(test_rain, [\"SENID\", \"TIME\"])\n",
    "test_label = process_time(test_label, [\"TIME\"])"
   ]
  },
  {
   "cell_type": "markdown",
   "id": "e2fb251d",
   "metadata": {},
   "source": [
    "<h4>处理异常值</h4>"
   ]
  },
  {
   "cell_type": "code",
   "execution_count": 29,
   "id": "4c7cc60d",
   "metadata": {
    "ExecuteTime": {
     "end_time": "2025-03-10T06:43:25.274556Z",
     "start_time": "2025-03-10T06:43:25.259556Z"
    }
   },
   "outputs": [],
   "source": [
    "def process_outliers(df: DataFrame):\n",
    "    \"\"\"\n",
    "    处理异常值\\n\n",
    "    \"\"\"\n",
    "    df[df[[\"V\", \"AVGV\", \"MAXV\", \"MINV\", \"S\", \"AVGS\", \"MAXS\", \"MINS\"]] < 0] = np.nan"
   ]
  },
  {
   "cell_type": "code",
   "execution_count": 30,
   "id": "287dfcbb",
   "metadata": {
    "ExecuteTime": {
     "end_time": "2025-03-10T06:43:27.645974Z",
     "start_time": "2025-03-10T06:43:25.275555Z"
    }
   },
   "outputs": [],
   "source": [
    "process_outliers(train_rain)\n",
    "process_outliers(train_label)\n",
    "process_outliers(test_rain)"
   ]
  },
  {
   "cell_type": "markdown",
   "id": "33b9e440",
   "metadata": {},
   "source": [
    "<h3>探索性数据分析</h3>"
   ]
  },
  {
   "cell_type": "markdown",
   "id": "505f5347",
   "metadata": {},
   "source": [
    "<h4>入库流量分析</h4>"
   ]
  },
  {
   "cell_type": "code",
   "execution_count": 31,
   "id": "ab547d69",
   "metadata": {
    "ExecuteTime": {
     "end_time": "2025-03-10T06:43:28.168882Z",
     "start_time": "2025-03-10T06:43:27.647874Z"
    }
   },
   "outputs": [
    {
     "data": {
      "text/plain": [
       "<Axes: xlabel='TIME'>"
      ]
     },
     "execution_count": 31,
     "metadata": {},
     "output_type": "execute_result"
    },
    {
     "data": {
      "image/png": "[encoded data removed]",
      "text/plain": [
       "<Figure size 640x480 with 1 Axes>"
      ]
     },
     "metadata": {},
     "output_type": "display_data"
    }
   ],
   "source": [
    "train_label[[\"TIME\", \"V\"]].set_index(\"TIME\")[\"V\"].plot()"
   ]
  },
  {
   "cell_type": "markdown",
   "id": "925812b5",
   "metadata": {},
   "source": [
    "<h4>雨量分析</h4>"
   ]
  },
  {
   "cell_type": "code",
   "execution_count": 32,
   "id": "61820f6e",
   "metadata": {
    "ExecuteTime": {
     "end_time": "2025-03-10T06:43:28.184882Z",
     "start_time": "2025-03-10T06:43:28.169875Z"
    }
   },
   "outputs": [],
   "source": [
    "train_rain_one = train_rain[(train_rain[\"SENID\"] == 210254)]  # & (train_rain[\"year\"] == 2015) & (train_rain[\"month\"] == 9) & (train_rain[\"day\"] == 26)]"
   ]
  },
  {
   "cell_type": "code",
   "execution_count": 33,
   "id": "152b8b45",
   "metadata": {
    "ExecuteTime": {
     "end_time": "2025-03-10T06:43:28.216880Z",
     "start_time": "2025-03-10T06:43:28.185882Z"
    }
   },
   "outputs": [],
   "source": [
    "senids = set(train_rain[\"SENID\"].unique()).intersection(set(test_rain[\"SENID\"].unique()))"
   ]
  },
  {
   "cell_type": "markdown",
   "id": "1ac2cbbf",
   "metadata": {},
   "source": [
    "<h3>特征工程</h3>"
   ]
  },
  {
   "cell_type": "markdown",
   "id": "099e262d",
   "metadata": {},
   "source": [
    "<h4>确实最佳lag</h4>"
   ]
  },
  {
   "cell_type": "code",
   "execution_count": 34,
   "id": "555d91b3",
   "metadata": {
    "ExecuteTime": {
     "end_time": "2025-03-10T06:43:28.232932Z",
     "start_time": "2025-03-10T06:43:28.219543Z"
    }
   },
   "outputs": [],
   "source": [
    "def best_lag(x: DataFrame, y: DataFrame, max_lag: int) -> int:\n",
    "    \"\"\"\n",
    "    确定x和y的最佳lag\\n\n",
    "    \"\"\"\n",
    "    df = pd.merge(x[[\"TIME\", \"V\"]], y[[\"TIME\", \"V\"]], how=\"outer\", on=\"TIME\")\n",
    "    df = df.set_index(\"TIME\", drop=True)\n",
    "    df = df.interpolate(method=\"time\")\n",
    "    df = df.reindex(pd.date_range(start=y[\"TIME\"].min(), end=y[\"TIME\"].max(), freq=\"H\"))\n",
    "    df = df.interpolate(method=\"time\")\n",
    "    corrs = []\n",
    "    for i in range(0, max_lag + 1):\n",
    "        df_new = df.copy()\n",
    "        if i > 0:\n",
    "            df_new[\"V_y\"] = df_new[\"V_y\"].diff(i).shift(-i)\n",
    "        df_new = df_new.dropna()\n",
    "        df_new = (df_new - df_new.mean()) / df_new.std()\n",
    "        corrs.append(df_new.corr().loc[\"V_x\", \"V_y\"])\n",
    "    return range(0, max_lag + 1)[np.argmax(corrs)]"
   ]
  },
  {
   "cell_type": "code",
   "execution_count": null,
   "id": "0b0123ff",
   "metadata": {},
   "outputs": [],
   "source": []
  },
  {
   "cell_type": "markdown",
   "id": "84122359",
   "metadata": {},
   "source": [
    "<h4>不同站点横向拼接</h4>"
   ]
  },
  {
   "cell_type": "code",
   "execution_count": 35,
   "id": "eee68960",
   "metadata": {
    "ExecuteTime": {
     "end_time": "2025-03-10T06:43:28.249006Z",
     "start_time": "2025-03-10T06:43:28.233927Z"
    }
   },
   "outputs": [],
   "source": [
    "def feature_engineering(x: DataFrame, y: DataFrame, lags: Optional[Dict] = None) -> (DataFrame, Dict):\n",
    "    \"\"\"\n",
    "    特征工程\\n\n",
    "    \"\"\"\n",
    "    results = []\n",
    "    lag_results = dict()\n",
    "    for senid, df in tqdm(x.groupby(\"SENID\")):\n",
    "        if senid not in senids:\n",
    "            continue\n",
    "        if lags is None:\n",
    "            lag = best_lag(df, y, 48)\n",
    "            lag_results[senid] = lag\n",
    "        else:\n",
    "            if senid not in lags.keys():\n",
    "                continue\n",
    "            else:\n",
    "                lag = lags[senid]\n",
    "        df = pd.merge(df, y[[\"TIME\"]], how=\"outer\", on=\"TIME\").sort_values(\"TIME\")\n",
    "        df = df.set_index(\"TIME\", drop=True)\n",
    "        df = df.drop(columns=[\"NAME\", \"SENID\", \"MAXT\", \"MINT\", \"year\", \"month\", \"day\", \"hour\", \"minute\", \"second\", \"AVGV\", \"MAXV\", \"MINV\", \"S\", \"AVGS\", \"MAXS\", \"MINS\", \"SPAN\"])\n",
    "        df = df.interpolate(method=\"time\")\n",
    "        df = df.reindex(pd.date_range(start=y[\"TIME\"].min(), end=y[\"TIME\"].max(), freq=\"H\"))\n",
    "        df = df.interpolate(method=\"time\")\n",
    "        df = df.rename(columns={k: f\"{k}_{senid}\" for k in df.columns})\n",
    "        if lag > 0:\n",
    "            df.index = df.index.shift(freq=f\"{lag}H\")\n",
    "        results.append(df)\n",
    "    result = pd.concat(results, axis=1)\n",
    "    result[\"year\"] = result.index.year\n",
    "    result[\"month\"] = result.index.month\n",
    "    result[\"day\"] = result.index.day\n",
    "    result[\"hour\"] = result.index.hour\n",
    "    result[[\"year\", \"month\", \"day\", \"hour\"]] = result[[\"year\", \"month\", \"day\", \"hour\"]].astype(\"category\")\n",
    "    return result, lag_results"
   ]
  },
  {
   "cell_type": "code",
   "execution_count": 36,
   "id": "7f4f67b4",
   "metadata": {
    "ExecuteTime": {
     "end_time": "2025-03-10T06:43:52.892130Z",
     "start_time": "2025-03-10T06:43:28.249992Z"
    }
   },
   "outputs": [
    {
     "data": {
      "application/vnd.jupyter.widget-view+json": {
       "model_id": "2412d6e70ca04b35892af8f3d93190e1",
       "version_major": 2,
       "version_minor": 0
      },
      "text/plain": [
       "  0%|          | 0/109 [00:00<?, ?it/s]"
      ]
     },
     "metadata": {},
     "output_type": "display_data"
    },
    {
     "name": "stderr",
     "output_type": "stream",
     "text": [
      "C:\\Users\\DrZon\\AppData\\Local\\Temp\\ipykernel_11516\\3345270922.py:29: PerformanceWarning: DataFrame is highly fragmented.  This is usually the result of calling `frame.insert` many times, which has poor performance.  Consider joining all columns at once using pd.concat(axis=1) instead. To get a de-fragmented frame, use `newframe = frame.copy()`\n",
      "  result[\"year\"] = result.index.year\n",
      "C:\\Users\\DrZon\\AppData\\Local\\Temp\\ipykernel_11516\\3345270922.py:30: PerformanceWarning: DataFrame is highly fragmented.  This is usually the result of calling `frame.insert` many times, which has poor performance.  Consider joining all columns at once using pd.concat(axis=1) instead. To get a de-fragmented frame, use `newframe = frame.copy()`\n",
      "  result[\"month\"] = result.index.month\n",
      "C:\\Users\\DrZon\\AppData\\Local\\Temp\\ipykernel_11516\\3345270922.py:31: PerformanceWarning: DataFrame is highly fragmented.  This is usually the result of calling `frame.insert` many times, which has poor performance.  Consider joining all columns at once using pd.concat(axis=1) instead. To get a de-fragmented frame, use `newframe = frame.copy()`\n",
      "  result[\"day\"] = result.index.day\n",
      "C:\\Users\\DrZon\\AppData\\Local\\Temp\\ipykernel_11516\\3345270922.py:32: PerformanceWarning: DataFrame is highly fragmented.  This is usually the result of calling `frame.insert` many times, which has poor performance.  Consider joining all columns at once using pd.concat(axis=1) instead. To get a de-fragmented frame, use `newframe = frame.copy()`\n",
      "  result[\"hour\"] = result.index.hour\n"
     ]
    },
    {
     "data": {
      "application/vnd.jupyter.widget-view+json": {
       "model_id": "4b9c031479444d47acaddf30a4728ce7",
       "version_major": 2,
       "version_minor": 0
      },
      "text/plain": [
       "  0%|          | 0/124 [00:00<?, ?it/s]"
      ]
     },
     "metadata": {},
     "output_type": "display_data"
    },
    {
     "name": "stderr",
     "output_type": "stream",
     "text": [
      "C:\\Users\\DrZon\\AppData\\Local\\Temp\\ipykernel_11516\\3345270922.py:29: PerformanceWarning: DataFrame is highly fragmented.  This is usually the result of calling `frame.insert` many times, which has poor performance.  Consider joining all columns at once using pd.concat(axis=1) instead. To get a de-fragmented frame, use `newframe = frame.copy()`\n",
      "  result[\"year\"] = result.index.year\n",
      "C:\\Users\\DrZon\\AppData\\Local\\Temp\\ipykernel_11516\\3345270922.py:30: PerformanceWarning: DataFrame is highly fragmented.  This is usually the result of calling `frame.insert` many times, which has poor performance.  Consider joining all columns at once using pd.concat(axis=1) instead. To get a de-fragmented frame, use `newframe = frame.copy()`\n",
      "  result[\"month\"] = result.index.month\n",
      "C:\\Users\\DrZon\\AppData\\Local\\Temp\\ipykernel_11516\\3345270922.py:31: PerformanceWarning: DataFrame is highly fragmented.  This is usually the result of calling `frame.insert` many times, which has poor performance.  Consider joining all columns at once using pd.concat(axis=1) instead. To get a de-fragmented frame, use `newframe = frame.copy()`\n",
      "  result[\"day\"] = result.index.day\n",
      "C:\\Users\\DrZon\\AppData\\Local\\Temp\\ipykernel_11516\\3345270922.py:32: PerformanceWarning: DataFrame is highly fragmented.  This is usually the result of calling `frame.insert` many times, which has poor performance.  Consider joining all columns at once using pd.concat(axis=1) instead. To get a de-fragmented frame, use `newframe = frame.copy()`\n",
      "  result[\"hour\"] = result.index.hour\n"
     ]
    }
   ],
   "source": [
    "train_rain_group_by_senid, lags_by_senid = feature_engineering(train_rain, train_label)\n",
    "test_rain_group_by_senid, _ = feature_engineering(test_rain, test_label, lags_by_senid)"
   ]
  },
  {
   "cell_type": "markdown",
   "id": "2e4af7f2",
   "metadata": {},
   "source": [
    "<h4>整理标签</h4>"
   ]
  },
  {
   "cell_type": "code",
   "execution_count": 37,
   "id": "f949c3ce",
   "metadata": {
    "ExecuteTime": {
     "end_time": "2025-03-10T06:43:52.908136Z",
     "start_time": "2025-03-10T06:43:52.893123Z"
    }
   },
   "outputs": [],
   "source": [
    "train_label = train_label.set_index(\"TIME\", drop=True)\n",
    "test_label = test_label.set_index(\"TIME\", drop=True)"
   ]
  },
  {
   "cell_type": "markdown",
   "id": "a7a9bb4b",
   "metadata": {},
   "source": [
    "<h4>合并标签和特征</h4>"
   ]
  },
  {
   "cell_type": "code",
   "execution_count": 38,
   "id": "017a6250",
   "metadata": {
    "ExecuteTime": {
     "end_time": "2025-03-10T06:43:52.987201Z",
     "start_time": "2025-03-10T06:43:52.909125Z"
    }
   },
   "outputs": [],
   "source": [
    "train_data = pd.merge(train_rain_group_by_senid, train_label[[\"V\"]], how=\"right\", left_index=True, right_index=True)\n",
    "test_data = pd.merge(test_rain_group_by_senid, test_label[[\"V\"]], how=\"right\", left_index=True, right_index=True)\n",
    "test_data = test_data.reindex(columns=train_data.columns)"
   ]
  },
  {
   "cell_type": "markdown",
   "id": "5786512d",
   "metadata": {},
   "source": [
    "<h4>划分xy</h4>"
   ]
  },
  {
   "cell_type": "code",
   "execution_count": 39,
   "id": "d72f66ef",
   "metadata": {
    "ExecuteTime": {
     "end_time": "2025-03-10T06:43:53.003130Z",
     "start_time": "2025-03-10T06:43:52.989133Z"
    }
   },
   "outputs": [],
   "source": [
    "def split_xy(df: DataFrame, na_values: str = \"fill\") -> (DataFrame, Series):\n",
    "    \"\"\"\n",
    "    划分xy\\n\n",
    "    \"\"\"\n",
    "    x = df.copy()\n",
    "    if \"fill\" == na_values:\n",
    "        y = x.pop(\"V\")   \n",
    "        y = y.fillna(method=\"bfill\").fillna(method=\"ffill\").fillna(0)\n",
    "        x[x.select_dtypes(exclude=['category']).columns] = x[x.select_dtypes(exclude=['category']).columns].fillna(0).astype(np.float32)\n",
    "    elif \"drop\" == na_values:\n",
    "        x = x.dropna(how=\"all\", subset=[x for x in x.columns if x not in [\"year\", \"month\", \"day\", \"hour\", \"V\"]])\n",
    "        y = x.pop(\"V\")\n",
    "        y = y.fillna(method=\"bfill\").fillna(method=\"ffill\").fillna(0)\n",
    "        x[x.select_dtypes(exclude=['category']).columns] = x[x.select_dtypes(exclude=['category']).columns].astype(np.float32)\n",
    "    else:\n",
    "        raise ValueError(f\"未知的参数na_values={na_values}\")\n",
    "    return x, y"
   ]
  },
  {
   "cell_type": "code",
   "execution_count": 40,
   "id": "458226f3",
   "metadata": {
    "ExecuteTime": {
     "end_time": "2025-03-10T06:43:53.147130Z",
     "start_time": "2025-03-10T06:43:53.004138Z"
    }
   },
   "outputs": [],
   "source": [
    "train_x, train_y = split_xy(train_data, \"drop\")\n",
    "test_x, test_y = split_xy(test_data, \"fill\")"
   ]
  },
  {
   "cell_type": "markdown",
   "id": "a6b4555d",
   "metadata": {},
   "source": [
    "<h3>训练模型</h3>"
   ]
  },
  {
   "cell_type": "markdown",
   "id": "ae653e1e",
   "metadata": {
    "ExecuteTime": {
     "end_time": "2025-03-04T01:41:07.517917Z",
     "start_time": "2025-03-04T01:41:07.489800Z"
    }
   },
   "source": [
    "<h4>评测指标</h4>"
   ]
  },
  {
   "cell_type": "code",
   "execution_count": 41,
   "id": "00ee1039",
   "metadata": {
    "ExecuteTime": {
     "end_time": "2025-03-10T06:43:53.163131Z",
     "start_time": "2025-03-10T06:43:53.148123Z"
    }
   },
   "outputs": [],
   "source": [
    "def score(y_true, y_pred):\n",
    "    mse = mean_squared_error(y_true, y_pred)\n",
    "    rmse = np.sqrt(mse)\n",
    "    return 1 / (1 + rmse)"
   ]
  },
  {
   "cell_type": "markdown",
   "id": "7f1759de",
   "metadata": {},
   "source": [
    "<h4>lightgbm模型</h4>"
   ]
  },
  {
   "cell_type": "code",
   "execution_count": 42,
   "id": "358d335b",
   "metadata": {
    "ExecuteTime": {
     "end_time": "2025-03-10T06:43:53.178130Z",
     "start_time": "2025-03-10T06:43:53.164125Z"
    }
   },
   "outputs": [],
   "source": [
    "params_lgb = {\n",
    "    \"num_boost_round\": 1000,\n",
    "    'learning_rate': 0.02,\n",
    "    'boosting_type': 'gbdt',\n",
    "    'objective': 'mse',\n",
    "    'metric': 'rmse',\n",
    "    'num_leaves': 127,\n",
    "    'verbose': -1,\n",
    "    'seed': 42,\n",
    "    'n_jobs': -1,\n",
    "    'feature_fraction': 0.8,\n",
    "    'bagging_fraction': 0.9,\n",
    "    'bagging_freq': 4,\n",
    "    \"early_stopping_round\": 100\n",
    "}\n",
    "model_lgb = []"
   ]
  },
  {
   "cell_type": "markdown",
   "id": "b38143cd",
   "metadata": {},
   "source": [
    "<h4>xgboost模型</h4>"
   ]
  },
  {
   "cell_type": "code",
   "execution_count": 43,
   "id": "396b5d7b",
   "metadata": {
    "ExecuteTime": {
     "end_time": "2025-03-10T06:43:53.193296Z",
     "start_time": "2025-03-10T06:43:53.179128Z"
    }
   },
   "outputs": [],
   "source": [
    "params_xgb = {\n",
    "    \"num_boost_round\": 500,\n",
    "    \"learning_rate\": 0.02,\n",
    "    \"booster\": \"gbtree\",\n",
    "    \"objective\": \"reg:squarederror\",\n",
    "    \"eval_metric\": \"rmse\",\n",
    "    \"max_leaves\": 127,\n",
    "    \"verbosity\": 1,\n",
    "    \"seed\": 42,\n",
    "    \"nthread\": -1,\n",
    "    \"colsample_bytree\": 0.6,\n",
    "    \"subsample\": 0.7,\n",
    "    \"early_stopping_rounds\": 100\n",
    "}\n",
    "model_xgb = []"
   ]
  },
  {
   "cell_type": "markdown",
   "id": "b5d3f837",
   "metadata": {},
   "source": [
    "<h4>交叉验证</h4>"
   ]
  },
  {
   "cell_type": "code",
   "execution_count": 44,
   "id": "423b332d",
   "metadata": {
    "ExecuteTime": {
     "end_time": "2025-03-10T06:46:21.430472Z",
     "start_time": "2025-03-10T06:43:53.194822Z"
    }
   },
   "outputs": [
    {
     "name": "stderr",
     "output_type": "stream",
     "text": [
      "2025-03-10 14:43:53,200 : INFO : ############ fold: 0 ###########\n",
      "C:\\Program Files\\Python310\\lib\\site-packages\\lightgbm\\engine.py:172: UserWarning: Found `num_boost_round` in params. Will use it instead of argument\n",
      "  _log_warning(f\"Found `{alias}` in params. Will use it instead of argument\")\n"
     ]
    },
    {
     "name": "stdout",
     "output_type": "stream",
     "text": [
      "[1000]\ttraining's rmse: 359.193\tvalid_1's rmse: 648.503\n",
      "[14:44:04] WARNING: C:\\buildkite-agent\\builds\\buildkite-windows-cpu-autoscaling-group-i-0fdc6d574b9c0d168-1\\xgboost\\xgboost-ci-windows\\src\\learner.cc:767: \n",
      "Parameters: { \"early_stopping_rounds\", \"num_boost_round\" } are not used.\n",
      "\n",
      "[0]\ttrain-rmse:2758.83114\teval-rmse:2750.76159\n",
      "[499]\ttrain-rmse:709.54945\teval-rmse:865.08895\n"
     ]
    },
    {
     "name": "stderr",
     "output_type": "stream",
     "text": [
      "2025-03-10 14:44:21,601 : INFO : ############ fold: 1 ###########\n",
      "C:\\Program Files\\Python310\\lib\\site-packages\\lightgbm\\engine.py:172: UserWarning: Found `num_boost_round` in params. Will use it instead of argument\n",
      "  _log_warning(f\"Found `{alias}` in params. Will use it instead of argument\")\n"
     ]
    },
    {
     "name": "stdout",
     "output_type": "stream",
     "text": [
      "[1000]\ttraining's rmse: 358.533\tvalid_1's rmse: 633.084\n",
      "[14:44:32] WARNING: C:\\buildkite-agent\\builds\\buildkite-windows-cpu-autoscaling-group-i-0fdc6d574b9c0d168-1\\xgboost\\xgboost-ci-windows\\src\\learner.cc:767: \n",
      "Parameters: { \"early_stopping_rounds\", \"num_boost_round\" } are not used.\n",
      "\n",
      "[0]\ttrain-rmse:2749.83109\teval-rmse:2791.05286\n",
      "[499]\ttrain-rmse:716.66221\teval-rmse:858.58268\n"
     ]
    },
    {
     "name": "stderr",
     "output_type": "stream",
     "text": [
      "2025-03-10 14:44:50,529 : INFO : ############ fold: 2 ###########\n",
      "C:\\Program Files\\Python310\\lib\\site-packages\\lightgbm\\engine.py:172: UserWarning: Found `num_boost_round` in params. Will use it instead of argument\n",
      "  _log_warning(f\"Found `{alias}` in params. Will use it instead of argument\")\n"
     ]
    },
    {
     "name": "stdout",
     "output_type": "stream",
     "text": [
      "[1000]\ttraining's rmse: 359.304\tvalid_1's rmse: 647.816\n",
      "[14:45:01] WARNING: C:\\buildkite-agent\\builds\\buildkite-windows-cpu-autoscaling-group-i-0fdc6d574b9c0d168-1\\xgboost\\xgboost-ci-windows\\src\\learner.cc:767: \n",
      "Parameters: { \"early_stopping_rounds\", \"num_boost_round\" } are not used.\n",
      "\n",
      "[0]\ttrain-rmse:2753.97539\teval-rmse:2779.20575\n",
      "[499]\ttrain-rmse:716.96809\teval-rmse:867.05027\n"
     ]
    },
    {
     "name": "stderr",
     "output_type": "stream",
     "text": [
      "2025-03-10 14:45:20,236 : INFO : ############ fold: 3 ###########\n",
      "C:\\Program Files\\Python310\\lib\\site-packages\\lightgbm\\engine.py:172: UserWarning: Found `num_boost_round` in params. Will use it instead of argument\n",
      "  _log_warning(f\"Found `{alias}` in params. Will use it instead of argument\")\n"
     ]
    },
    {
     "name": "stdout",
     "output_type": "stream",
     "text": [
      "[1000]\ttraining's rmse: 359.371\tvalid_1's rmse: 652.162\n",
      "[14:45:31] WARNING: C:\\buildkite-agent\\builds\\buildkite-windows-cpu-autoscaling-group-i-0fdc6d574b9c0d168-1\\xgboost\\xgboost-ci-windows\\src\\learner.cc:767: \n",
      "Parameters: { \"early_stopping_rounds\", \"num_boost_round\" } are not used.\n",
      "\n",
      "[0]\ttrain-rmse:2769.63720\teval-rmse:2711.30852\n",
      "[499]\ttrain-rmse:711.01472\teval-rmse:848.82128\n"
     ]
    },
    {
     "name": "stderr",
     "output_type": "stream",
     "text": [
      "2025-03-10 14:45:50,571 : INFO : ############ fold: 4 ###########\n",
      "C:\\Program Files\\Python310\\lib\\site-packages\\lightgbm\\engine.py:172: UserWarning: Found `num_boost_round` in params. Will use it instead of argument\n",
      "  _log_warning(f\"Found `{alias}` in params. Will use it instead of argument\")\n"
     ]
    },
    {
     "name": "stdout",
     "output_type": "stream",
     "text": [
      "[1000]\ttraining's rmse: 359.848\tvalid_1's rmse: 637.996\n",
      "[14:46:01] WARNING: C:\\buildkite-agent\\builds\\buildkite-windows-cpu-autoscaling-group-i-0fdc6d574b9c0d168-1\\xgboost\\xgboost-ci-windows\\src\\learner.cc:767: \n",
      "Parameters: { \"early_stopping_rounds\", \"num_boost_round\" } are not used.\n",
      "\n",
      "[0]\ttrain-rmse:2757.16700\teval-rmse:2759.67479\n",
      "[499]\ttrain-rmse:714.87435\teval-rmse:852.53322\n"
     ]
    },
    {
     "name": "stderr",
     "output_type": "stream",
     "text": [
      "2025-03-10 14:46:21,425 : INFO : --------------本地分数 0.0013788980702075114--------------\n"
     ]
    }
   ],
   "source": [
    "kfold = KFold(n_splits=5, random_state=42, shuffle=True)\n",
    "\n",
    "mse = 0\n",
    "for fold, (train_index, val_index) in enumerate(kfold.split(train_x, train_y)):\n",
    "    logging.info(f'############ fold: {fold} ###########')\n",
    "    x_train, x_val, y_train, y_val = train_x.iloc[train_index], train_x.iloc[val_index], train_y.iloc[train_index], train_y.iloc[val_index]\n",
    "    \n",
    "    trainset = Dataset(x_train, y_train)\n",
    "    valset = Dataset(x_val, y_val)\n",
    "    model = lgb.train(params_lgb, trainset, valid_sets=[trainset, valset], categorical_feature=\"auto\", callbacks=[lgb.log_evaluation(1000)])\n",
    "    model.save_model(\"../models/lgb_%d.txt\" % fold)\n",
    "    model_lgb.append(model)\n",
    "    lgb_pred = Series(model.predict(x_val, num_iteration=model.best_iteration), index=y_val.index).fillna(0)\n",
    "    \n",
    "    trainset = DMatrix(x_train, y_train, enable_categorical=True, nthread=-1)\n",
    "    valset = DMatrix(x_val, y_val, enable_categorical=True, nthread=-1)\n",
    "    model = xgb.train(params_xgb, trainset, evals=[(trainset, 'train'),(valset, 'eval')], num_boost_round=params_xgb[\"num_boost_round\"], early_stopping_rounds=params_xgb[\"early_stopping_rounds\"], verbose_eval=1000)\n",
    "    model.save_model(\"../models/xgb_%d.json\" % fold)\n",
    "    model_xgb.append(model)\n",
    "    xgb_pred = Series(model.predict(valset, iteration_range=(0, model.best_ntree_limit)), index=y_val.index).fillna(0)\n",
    "    \n",
    "    val_pred = (lgb_pred + xgb_pred) / 2\n",
    "    mse += mean_squared_error(y_val.fillna(0), val_pred)\n",
    "rmse = np.sqrt(mse / kfold.n_splits)\n",
    "score = 1 / (1 + rmse)\n",
    "logging.info(f\"--------------本地分数 {score}--------------\")"
   ]
  },
  {
   "cell_type": "markdown",
   "id": "ff47793d",
   "metadata": {},
   "source": [
    "<h3>测试</h3>"
   ]
  },
  {
   "cell_type": "markdown",
   "id": "62ac8215",
   "metadata": {},
   "source": [
    "<h4>计算测试集标签</h4>"
   ]
  },
  {
   "cell_type": "code",
   "execution_count": 45,
   "id": "59cb707a",
   "metadata": {
    "ExecuteTime": {
     "end_time": "2025-03-10T06:46:22.344201Z",
     "start_time": "2025-03-10T06:46:21.431984Z"
    }
   },
   "outputs": [],
   "source": [
    "y_pred = 0\n",
    "for i in range(kfold.n_splits):\n",
    "    lgb_pred = model_lgb[i].predict(test_x, num_iteration=model.best_iteration)\n",
    "    xgb_pred = model_xgb[i].predict(DMatrix(test_x, enable_categorical=True, nthread=-1), iteration_range=(0, model.best_ntree_limit))\n",
    "    y_pred += (lgb_pred + xgb_pred) / 2\n",
    "y_pred = y_pred / kfold.n_splits"
   ]
  },
  {
   "cell_type": "code",
   "execution_count": 46,
   "id": "0b110db2",
   "metadata": {
    "ExecuteTime": {
     "end_time": "2025-03-10T06:46:22.360169Z",
     "start_time": "2025-03-10T06:46:22.346208Z"
    }
   },
   "outputs": [
    {
     "data": {
      "text/plain": [
       "(17544,)"
      ]
     },
     "execution_count": 46,
     "metadata": {},
     "output_type": "execute_result"
    }
   ],
   "source": [
    "y_pred.shape"
   ]
  },
  {
   "cell_type": "code",
   "execution_count": 47,
   "id": "4bebcf14",
   "metadata": {
    "ExecuteTime": {
     "end_time": "2025-03-10T06:46:22.375540Z",
     "start_time": "2025-03-10T06:46:22.362170Z"
    }
   },
   "outputs": [
    {
     "name": "stderr",
     "output_type": "stream",
     "text": [
      "C:\\Users\\DrZon\\AppData\\Local\\Temp\\ipykernel_11516\\1153454413.py:3: SettingWithCopyWarning: \n",
      "A value is trying to be set on a copy of a slice from a DataFrame\n",
      "\n",
      "See the caveats in the documentation: https://pandas.pydata.org/pandas-docs/stable/user_guide/indexing.html#returning-a-view-versus-a-copy\n",
      "  test_label[\"V\"].iloc[0:24] = train_label[\"V\"].iloc[-24:]\n"
     ]
    }
   ],
   "source": [
    "y_pred[y_pred < 0] = 0\n",
    "test_label[\"V\"] = y_pred\n",
    "test_label[\"V\"].iloc[0:24] = train_label[\"V\"].iloc[-24:]"
   ]
  },
  {
   "cell_type": "markdown",
   "id": "baa20e37",
   "metadata": {},
   "source": [
    "<h4>保存文件</h4>"
   ]
  },
  {
   "cell_type": "code",
   "execution_count": 48,
   "id": "1e37518c",
   "metadata": {
    "ExecuteTime": {
     "end_time": "2025-03-10T06:46:22.468434Z",
     "start_time": "2025-03-10T06:46:22.377542Z"
    }
   },
   "outputs": [],
   "source": [
    "test_label[[\"V\"]].to_csv(f\"../data/submit/submit_{datetime.now().strftime('%Y%m%d-%H%M%S')}.csv\")"
   ]
  },
  {
   "cell_type": "markdown",
   "id": "5264f3cc",
   "metadata": {},
   "source": [
    "<h3>last epoch大法</h3>"
   ]
  },
  {
   "cell_type": "code",
   "execution_count": 65,
   "id": "6dc65a64",
   "metadata": {
    "ExecuteTime": {
     "end_time": "2025-03-07T12:53:43.364806Z",
     "start_time": "2025-03-07T12:53:43.215761Z"
    }
   },
   "outputs": [
    {
     "data": {
      "text/html": [
       "<div>\n",
       "<style scoped>\n",
       "    .dataframe tbody tr th:only-of-type {\n",
       "        vertical-align: middle;\n",
       "    }\n",
       "\n",
       "    .dataframe tbody tr th {\n",
       "        vertical-align: top;\n",
       "    }\n",
       "\n",
       "    .dataframe thead th {\n",
       "        text-align: right;\n",
       "    }\n",
       "</style>\n",
       "<table border=\"1\" class=\"dataframe\">\n",
       "  <thead>\n",
       "    <tr style=\"text-align: right;\">\n",
       "      <th></th>\n",
       "      <th>V_210254</th>\n",
       "      <th>AVGV_210254</th>\n",
       "      <th>MAXV_210254</th>\n",
       "      <th>MINV_210254</th>\n",
       "      <th>S_210254</th>\n",
       "      <th>AVGS_210254</th>\n",
       "      <th>MAXS_210254</th>\n",
       "      <th>MINS_210254</th>\n",
       "      <th>SPAN_210254</th>\n",
       "      <th>V_210454</th>\n",
       "      <th>...</th>\n",
       "      <th>S_1610254</th>\n",
       "      <th>AVGS_1610254</th>\n",
       "      <th>MAXS_1610254</th>\n",
       "      <th>MINS_1610254</th>\n",
       "      <th>SPAN_1610254</th>\n",
       "      <th>year</th>\n",
       "      <th>month</th>\n",
       "      <th>day</th>\n",
       "      <th>hour</th>\n",
       "      <th>V</th>\n",
       "    </tr>\n",
       "    <tr>\n",
       "      <th>TIME</th>\n",
       "      <th></th>\n",
       "      <th></th>\n",
       "      <th></th>\n",
       "      <th></th>\n",
       "      <th></th>\n",
       "      <th></th>\n",
       "      <th></th>\n",
       "      <th></th>\n",
       "      <th></th>\n",
       "      <th></th>\n",
       "      <th></th>\n",
       "      <th></th>\n",
       "      <th></th>\n",
       "      <th></th>\n",
       "      <th></th>\n",
       "      <th></th>\n",
       "      <th></th>\n",
       "      <th></th>\n",
       "      <th></th>\n",
       "      <th></th>\n",
       "      <th></th>\n",
       "    </tr>\n",
       "  </thead>\n",
       "  <tbody>\n",
       "    <tr>\n",
       "      <th>2019-01-01 00:00:00</th>\n",
       "      <td>0.0</td>\n",
       "      <td>1.0</td>\n",
       "      <td>1.0</td>\n",
       "      <td>1.0</td>\n",
       "      <td>2.0</td>\n",
       "      <td>1.0</td>\n",
       "      <td>2.0</td>\n",
       "      <td>2.0</td>\n",
       "      <td>1.0</td>\n",
       "      <td>0.0</td>\n",
       "      <td>...</td>\n",
       "      <td>2.0</td>\n",
       "      <td>2.0</td>\n",
       "      <td>2.0</td>\n",
       "      <td>2.0</td>\n",
       "      <td>1.0</td>\n",
       "      <td>2019</td>\n",
       "      <td>1</td>\n",
       "      <td>1</td>\n",
       "      <td>0</td>\n",
       "      <td>964.838</td>\n",
       "    </tr>\n",
       "    <tr>\n",
       "      <th>2019-01-01 01:00:00</th>\n",
       "      <td>0.0</td>\n",
       "      <td>1.0</td>\n",
       "      <td>1.0</td>\n",
       "      <td>1.0</td>\n",
       "      <td>2.0</td>\n",
       "      <td>1.0</td>\n",
       "      <td>2.0</td>\n",
       "      <td>2.0</td>\n",
       "      <td>1.0</td>\n",
       "      <td>0.0</td>\n",
       "      <td>...</td>\n",
       "      <td>2.0</td>\n",
       "      <td>2.0</td>\n",
       "      <td>2.0</td>\n",
       "      <td>2.0</td>\n",
       "      <td>1.0</td>\n",
       "      <td>2019</td>\n",
       "      <td>1</td>\n",
       "      <td>1</td>\n",
       "      <td>1</td>\n",
       "      <td>2105.581</td>\n",
       "    </tr>\n",
       "    <tr>\n",
       "      <th>2019-01-01 02:00:00</th>\n",
       "      <td>0.0</td>\n",
       "      <td>1.0</td>\n",
       "      <td>1.0</td>\n",
       "      <td>1.0</td>\n",
       "      <td>2.0</td>\n",
       "      <td>1.0</td>\n",
       "      <td>2.0</td>\n",
       "      <td>2.0</td>\n",
       "      <td>1.0</td>\n",
       "      <td>0.0</td>\n",
       "      <td>...</td>\n",
       "      <td>2.0</td>\n",
       "      <td>2.0</td>\n",
       "      <td>2.0</td>\n",
       "      <td>2.0</td>\n",
       "      <td>1.0</td>\n",
       "      <td>2019</td>\n",
       "      <td>1</td>\n",
       "      <td>1</td>\n",
       "      <td>2</td>\n",
       "      <td>956.995</td>\n",
       "    </tr>\n",
       "    <tr>\n",
       "      <th>2019-01-01 03:00:00</th>\n",
       "      <td>0.0</td>\n",
       "      <td>1.0</td>\n",
       "      <td>1.0</td>\n",
       "      <td>1.0</td>\n",
       "      <td>2.0</td>\n",
       "      <td>1.0</td>\n",
       "      <td>2.0</td>\n",
       "      <td>2.0</td>\n",
       "      <td>1.0</td>\n",
       "      <td>0.0</td>\n",
       "      <td>...</td>\n",
       "      <td>2.0</td>\n",
       "      <td>2.0</td>\n",
       "      <td>2.0</td>\n",
       "      <td>2.0</td>\n",
       "      <td>1.0</td>\n",
       "      <td>2019</td>\n",
       "      <td>1</td>\n",
       "      <td>1</td>\n",
       "      <td>3</td>\n",
       "      <td>357.836</td>\n",
       "    </tr>\n",
       "    <tr>\n",
       "      <th>2019-01-01 04:00:00</th>\n",
       "      <td>0.0</td>\n",
       "      <td>1.0</td>\n",
       "      <td>1.0</td>\n",
       "      <td>1.0</td>\n",
       "      <td>2.0</td>\n",
       "      <td>1.0</td>\n",
       "      <td>2.0</td>\n",
       "      <td>2.0</td>\n",
       "      <td>1.0</td>\n",
       "      <td>0.0</td>\n",
       "      <td>...</td>\n",
       "      <td>2.0</td>\n",
       "      <td>2.0</td>\n",
       "      <td>2.0</td>\n",
       "      <td>2.0</td>\n",
       "      <td>1.0</td>\n",
       "      <td>2019</td>\n",
       "      <td>1</td>\n",
       "      <td>1</td>\n",
       "      <td>4</td>\n",
       "      <td>155.644</td>\n",
       "    </tr>\n",
       "    <tr>\n",
       "      <th>...</th>\n",
       "      <td>...</td>\n",
       "      <td>...</td>\n",
       "      <td>...</td>\n",
       "      <td>...</td>\n",
       "      <td>...</td>\n",
       "      <td>...</td>\n",
       "      <td>...</td>\n",
       "      <td>...</td>\n",
       "      <td>...</td>\n",
       "      <td>...</td>\n",
       "      <td>...</td>\n",
       "      <td>...</td>\n",
       "      <td>...</td>\n",
       "      <td>...</td>\n",
       "      <td>...</td>\n",
       "      <td>...</td>\n",
       "      <td>...</td>\n",
       "      <td>...</td>\n",
       "      <td>...</td>\n",
       "      <td>...</td>\n",
       "      <td>...</td>\n",
       "    </tr>\n",
       "    <tr>\n",
       "      <th>2019-12-31 19:00:00</th>\n",
       "      <td>0.0</td>\n",
       "      <td>1.0</td>\n",
       "      <td>1.0</td>\n",
       "      <td>1.0</td>\n",
       "      <td>2.0</td>\n",
       "      <td>1.0</td>\n",
       "      <td>2.0</td>\n",
       "      <td>2.0</td>\n",
       "      <td>1.0</td>\n",
       "      <td>0.0</td>\n",
       "      <td>...</td>\n",
       "      <td>2.0</td>\n",
       "      <td>2.0</td>\n",
       "      <td>2.0</td>\n",
       "      <td>2.0</td>\n",
       "      <td>1.0</td>\n",
       "      <td>2019</td>\n",
       "      <td>12</td>\n",
       "      <td>31</td>\n",
       "      <td>19</td>\n",
       "      <td>385.296</td>\n",
       "    </tr>\n",
       "    <tr>\n",
       "      <th>2019-12-31 20:00:00</th>\n",
       "      <td>0.0</td>\n",
       "      <td>1.0</td>\n",
       "      <td>1.0</td>\n",
       "      <td>1.0</td>\n",
       "      <td>2.0</td>\n",
       "      <td>1.0</td>\n",
       "      <td>2.0</td>\n",
       "      <td>2.0</td>\n",
       "      <td>1.0</td>\n",
       "      <td>0.0</td>\n",
       "      <td>...</td>\n",
       "      <td>2.0</td>\n",
       "      <td>2.0</td>\n",
       "      <td>2.0</td>\n",
       "      <td>2.0</td>\n",
       "      <td>1.0</td>\n",
       "      <td>2019</td>\n",
       "      <td>12</td>\n",
       "      <td>31</td>\n",
       "      <td>20</td>\n",
       "      <td>607.572</td>\n",
       "    </tr>\n",
       "    <tr>\n",
       "      <th>2019-12-31 21:00:00</th>\n",
       "      <td>0.0</td>\n",
       "      <td>1.0</td>\n",
       "      <td>1.0</td>\n",
       "      <td>1.0</td>\n",
       "      <td>2.0</td>\n",
       "      <td>1.0</td>\n",
       "      <td>2.0</td>\n",
       "      <td>2.0</td>\n",
       "      <td>1.0</td>\n",
       "      <td>0.0</td>\n",
       "      <td>...</td>\n",
       "      <td>2.0</td>\n",
       "      <td>2.0</td>\n",
       "      <td>2.0</td>\n",
       "      <td>2.0</td>\n",
       "      <td>1.0</td>\n",
       "      <td>2019</td>\n",
       "      <td>12</td>\n",
       "      <td>31</td>\n",
       "      <td>21</td>\n",
       "      <td>801.849</td>\n",
       "    </tr>\n",
       "    <tr>\n",
       "      <th>2019-12-31 22:00:00</th>\n",
       "      <td>0.0</td>\n",
       "      <td>1.0</td>\n",
       "      <td>1.0</td>\n",
       "      <td>1.0</td>\n",
       "      <td>2.0</td>\n",
       "      <td>1.0</td>\n",
       "      <td>2.0</td>\n",
       "      <td>2.0</td>\n",
       "      <td>1.0</td>\n",
       "      <td>0.0</td>\n",
       "      <td>...</td>\n",
       "      <td>2.0</td>\n",
       "      <td>2.0</td>\n",
       "      <td>2.0</td>\n",
       "      <td>2.0</td>\n",
       "      <td>1.0</td>\n",
       "      <td>2019</td>\n",
       "      <td>12</td>\n",
       "      <td>31</td>\n",
       "      <td>22</td>\n",
       "      <td>1024.193</td>\n",
       "    </tr>\n",
       "    <tr>\n",
       "      <th>2019-12-31 23:00:00</th>\n",
       "      <td>0.0</td>\n",
       "      <td>1.0</td>\n",
       "      <td>1.0</td>\n",
       "      <td>1.0</td>\n",
       "      <td>2.0</td>\n",
       "      <td>1.0</td>\n",
       "      <td>2.0</td>\n",
       "      <td>2.0</td>\n",
       "      <td>1.0</td>\n",
       "      <td>0.0</td>\n",
       "      <td>...</td>\n",
       "      <td>2.0</td>\n",
       "      <td>2.0</td>\n",
       "      <td>2.0</td>\n",
       "      <td>2.0</td>\n",
       "      <td>1.0</td>\n",
       "      <td>2019</td>\n",
       "      <td>12</td>\n",
       "      <td>31</td>\n",
       "      <td>23</td>\n",
       "      <td>1023.481</td>\n",
       "    </tr>\n",
       "  </tbody>\n",
       "</table>\n",
       "<p>8760 rows × 986 columns</p>\n",
       "</div>"
      ],
      "text/plain": [
       "                     V_210254  AVGV_210254  MAXV_210254  MINV_210254  \\\n",
       "TIME                                                                   \n",
       "2019-01-01 00:00:00       0.0          1.0          1.0          1.0   \n",
       "2019-01-01 01:00:00       0.0          1.0          1.0          1.0   \n",
       "2019-01-01 02:00:00       0.0          1.0          1.0          1.0   \n",
       "2019-01-01 03:00:00       0.0          1.0          1.0          1.0   \n",
       "2019-01-01 04:00:00       0.0          1.0          1.0          1.0   \n",
       "...                       ...          ...          ...          ...   \n",
       "2019-12-31 19:00:00       0.0          1.0          1.0          1.0   \n",
       "2019-12-31 20:00:00       0.0          1.0          1.0          1.0   \n",
       "2019-12-31 21:00:00       0.0          1.0          1.0          1.0   \n",
       "2019-12-31 22:00:00       0.0          1.0          1.0          1.0   \n",
       "2019-12-31 23:00:00       0.0          1.0          1.0          1.0   \n",
       "\n",
       "                     S_210254  AVGS_210254  MAXS_210254  MINS_210254  \\\n",
       "TIME                                                                   \n",
       "2019-01-01 00:00:00       2.0          1.0          2.0          2.0   \n",
       "2019-01-01 01:00:00       2.0          1.0          2.0          2.0   \n",
       "2019-01-01 02:00:00       2.0          1.0          2.0          2.0   \n",
       "2019-01-01 03:00:00       2.0          1.0          2.0          2.0   \n",
       "2019-01-01 04:00:00       2.0          1.0          2.0          2.0   \n",
       "...                       ...          ...          ...          ...   \n",
       "2019-12-31 19:00:00       2.0          1.0          2.0          2.0   \n",
       "2019-12-31 20:00:00       2.0          1.0          2.0          2.0   \n",
       "2019-12-31 21:00:00       2.0          1.0          2.0          2.0   \n",
       "2019-12-31 22:00:00       2.0          1.0          2.0          2.0   \n",
       "2019-12-31 23:00:00       2.0          1.0          2.0          2.0   \n",
       "\n",
       "                     SPAN_210254  V_210454  ...  S_1610254  AVGS_1610254  \\\n",
       "TIME                                        ...                            \n",
       "2019-01-01 00:00:00          1.0       0.0  ...        2.0           2.0   \n",
       "2019-01-01 01:00:00          1.0       0.0  ...        2.0           2.0   \n",
       "2019-01-01 02:00:00          1.0       0.0  ...        2.0           2.0   \n",
       "2019-01-01 03:00:00          1.0       0.0  ...        2.0           2.0   \n",
       "2019-01-01 04:00:00          1.0       0.0  ...        2.0           2.0   \n",
       "...                          ...       ...  ...        ...           ...   \n",
       "2019-12-31 19:00:00          1.0       0.0  ...        2.0           2.0   \n",
       "2019-12-31 20:00:00          1.0       0.0  ...        2.0           2.0   \n",
       "2019-12-31 21:00:00          1.0       0.0  ...        2.0           2.0   \n",
       "2019-12-31 22:00:00          1.0       0.0  ...        2.0           2.0   \n",
       "2019-12-31 23:00:00          1.0       0.0  ...        2.0           2.0   \n",
       "\n",
       "                     MAXS_1610254  MINS_1610254  SPAN_1610254  year  month  \\\n",
       "TIME                                                                         \n",
       "2019-01-01 00:00:00           2.0           2.0           1.0  2019      1   \n",
       "2019-01-01 01:00:00           2.0           2.0           1.0  2019      1   \n",
       "2019-01-01 02:00:00           2.0           2.0           1.0  2019      1   \n",
       "2019-01-01 03:00:00           2.0           2.0           1.0  2019      1   \n",
       "2019-01-01 04:00:00           2.0           2.0           1.0  2019      1   \n",
       "...                           ...           ...           ...   ...    ...   \n",
       "2019-12-31 19:00:00           2.0           2.0           1.0  2019     12   \n",
       "2019-12-31 20:00:00           2.0           2.0           1.0  2019     12   \n",
       "2019-12-31 21:00:00           2.0           2.0           1.0  2019     12   \n",
       "2019-12-31 22:00:00           2.0           2.0           1.0  2019     12   \n",
       "2019-12-31 23:00:00           2.0           2.0           1.0  2019     12   \n",
       "\n",
       "                     day  hour         V  \n",
       "TIME                                      \n",
       "2019-01-01 00:00:00    1     0   964.838  \n",
       "2019-01-01 01:00:00    1     1  2105.581  \n",
       "2019-01-01 02:00:00    1     2   956.995  \n",
       "2019-01-01 03:00:00    1     3   357.836  \n",
       "2019-01-01 04:00:00    1     4   155.644  \n",
       "...                  ...   ...       ...  \n",
       "2019-12-31 19:00:00   31    19   385.296  \n",
       "2019-12-31 20:00:00   31    20   607.572  \n",
       "2019-12-31 21:00:00   31    21   801.849  \n",
       "2019-12-31 22:00:00   31    22  1024.193  \n",
       "2019-12-31 23:00:00   31    23  1023.481  \n",
       "\n",
       "[8760 rows x 986 columns]"
      ]
     },
     "execution_count": 65,
     "metadata": {},
     "output_type": "execute_result"
    }
   ],
   "source": [
    "train_data_2019 = train_data[train_data[\"year\"] == 2019].copy()\n",
    "train_data_2019"
   ]
  },
  {
   "cell_type": "code",
   "execution_count": 66,
   "id": "85e9788e",
   "metadata": {
    "ExecuteTime": {
     "end_time": "2025-03-07T12:53:43.696563Z",
     "start_time": "2025-03-07T12:53:43.676273Z"
    }
   },
   "outputs": [
    {
     "data": {
      "text/html": [
       "<div>\n",
       "<style scoped>\n",
       "    .dataframe tbody tr th:only-of-type {\n",
       "        vertical-align: middle;\n",
       "    }\n",
       "\n",
       "    .dataframe tbody tr th {\n",
       "        vertical-align: top;\n",
       "    }\n",
       "\n",
       "    .dataframe thead th {\n",
       "        text-align: right;\n",
       "    }\n",
       "</style>\n",
       "<table border=\"1\" class=\"dataframe\">\n",
       "  <thead>\n",
       "    <tr style=\"text-align: right;\">\n",
       "      <th></th>\n",
       "      <th>V</th>\n",
       "    </tr>\n",
       "    <tr>\n",
       "      <th>TIME</th>\n",
       "      <th></th>\n",
       "    </tr>\n",
       "  </thead>\n",
       "  <tbody>\n",
       "    <tr>\n",
       "      <th>2020-01-01 00:00:00</th>\n",
       "      <td>964.838</td>\n",
       "    </tr>\n",
       "    <tr>\n",
       "      <th>2020-01-01 01:00:00</th>\n",
       "      <td>2105.581</td>\n",
       "    </tr>\n",
       "    <tr>\n",
       "      <th>2020-01-01 02:00:00</th>\n",
       "      <td>956.995</td>\n",
       "    </tr>\n",
       "    <tr>\n",
       "      <th>2020-01-01 03:00:00</th>\n",
       "      <td>357.836</td>\n",
       "    </tr>\n",
       "    <tr>\n",
       "      <th>2020-01-01 04:00:00</th>\n",
       "      <td>155.644</td>\n",
       "    </tr>\n",
       "    <tr>\n",
       "      <th>...</th>\n",
       "      <td>...</td>\n",
       "    </tr>\n",
       "    <tr>\n",
       "      <th>2021-12-31 19:00:00</th>\n",
       "      <td>385.296</td>\n",
       "    </tr>\n",
       "    <tr>\n",
       "      <th>2021-12-31 20:00:00</th>\n",
       "      <td>607.572</td>\n",
       "    </tr>\n",
       "    <tr>\n",
       "      <th>2021-12-31 21:00:00</th>\n",
       "      <td>801.849</td>\n",
       "    </tr>\n",
       "    <tr>\n",
       "      <th>2021-12-31 22:00:00</th>\n",
       "      <td>1024.193</td>\n",
       "    </tr>\n",
       "    <tr>\n",
       "      <th>2021-12-31 23:00:00</th>\n",
       "      <td>1023.481</td>\n",
       "    </tr>\n",
       "  </tbody>\n",
       "</table>\n",
       "<p>17520 rows × 1 columns</p>\n",
       "</div>"
      ],
      "text/plain": [
       "                            V\n",
       "TIME                         \n",
       "2020-01-01 00:00:00   964.838\n",
       "2020-01-01 01:00:00  2105.581\n",
       "2020-01-01 02:00:00   956.995\n",
       "2020-01-01 03:00:00   357.836\n",
       "2020-01-01 04:00:00   155.644\n",
       "...                       ...\n",
       "2021-12-31 19:00:00   385.296\n",
       "2021-12-31 20:00:00   607.572\n",
       "2021-12-31 21:00:00   801.849\n",
       "2021-12-31 22:00:00  1024.193\n",
       "2021-12-31 23:00:00  1023.481\n",
       "\n",
       "[17520 rows x 1 columns]"
      ]
     },
     "execution_count": 66,
     "metadata": {},
     "output_type": "execute_result"
    }
   ],
   "source": [
    "test_label_2020 = train_data_2019[[\"V\"]].copy()\n",
    "test_label_2020.index = test_label_2020.index + DateOffset(years=1)\n",
    "test_label_2021 = train_data_2019[[\"V\"]].copy()\n",
    "test_label_2021.index = test_label_2021.index + DateOffset(years=2)\n",
    "result = pd.concat([test_label_2020, test_label_2021], axis=0)\n",
    "result"
   ]
  },
  {
   "cell_type": "code",
   "execution_count": 67,
   "id": "df5f306f",
   "metadata": {
    "ExecuteTime": {
     "end_time": "2025-03-07T12:53:44.057420Z",
     "start_time": "2025-03-07T12:53:44.000087Z"
    }
   },
   "outputs": [
    {
     "data": {
      "text/html": [
       "<div>\n",
       "<style scoped>\n",
       "    .dataframe tbody tr th:only-of-type {\n",
       "        vertical-align: middle;\n",
       "    }\n",
       "\n",
       "    .dataframe tbody tr th {\n",
       "        vertical-align: top;\n",
       "    }\n",
       "\n",
       "    .dataframe thead th {\n",
       "        text-align: right;\n",
       "    }\n",
       "</style>\n",
       "<table border=\"1\" class=\"dataframe\">\n",
       "  <thead>\n",
       "    <tr style=\"text-align: right;\">\n",
       "      <th></th>\n",
       "      <th>V</th>\n",
       "    </tr>\n",
       "    <tr>\n",
       "      <th>TIME</th>\n",
       "      <th></th>\n",
       "    </tr>\n",
       "  </thead>\n",
       "  <tbody>\n",
       "    <tr>\n",
       "      <th>2020-01-01 00:00:00</th>\n",
       "      <td>964.838</td>\n",
       "    </tr>\n",
       "    <tr>\n",
       "      <th>2020-01-01 01:00:00</th>\n",
       "      <td>2105.581</td>\n",
       "    </tr>\n",
       "    <tr>\n",
       "      <th>2020-01-01 02:00:00</th>\n",
       "      <td>956.995</td>\n",
       "    </tr>\n",
       "    <tr>\n",
       "      <th>2020-01-01 03:00:00</th>\n",
       "      <td>357.836</td>\n",
       "    </tr>\n",
       "    <tr>\n",
       "      <th>2020-01-01 04:00:00</th>\n",
       "      <td>155.644</td>\n",
       "    </tr>\n",
       "    <tr>\n",
       "      <th>...</th>\n",
       "      <td>...</td>\n",
       "    </tr>\n",
       "    <tr>\n",
       "      <th>2021-12-31 19:00:00</th>\n",
       "      <td>385.296</td>\n",
       "    </tr>\n",
       "    <tr>\n",
       "      <th>2021-12-31 20:00:00</th>\n",
       "      <td>607.572</td>\n",
       "    </tr>\n",
       "    <tr>\n",
       "      <th>2021-12-31 21:00:00</th>\n",
       "      <td>801.849</td>\n",
       "    </tr>\n",
       "    <tr>\n",
       "      <th>2021-12-31 22:00:00</th>\n",
       "      <td>1024.193</td>\n",
       "    </tr>\n",
       "    <tr>\n",
       "      <th>2021-12-31 23:00:00</th>\n",
       "      <td>1023.481</td>\n",
       "    </tr>\n",
       "  </tbody>\n",
       "</table>\n",
       "<p>17544 rows × 1 columns</p>\n",
       "</div>"
      ],
      "text/plain": [
       "                            V\n",
       "TIME                         \n",
       "2020-01-01 00:00:00   964.838\n",
       "2020-01-01 01:00:00  2105.581\n",
       "2020-01-01 02:00:00   956.995\n",
       "2020-01-01 03:00:00   357.836\n",
       "2020-01-01 04:00:00   155.644\n",
       "...                       ...\n",
       "2021-12-31 19:00:00   385.296\n",
       "2021-12-31 20:00:00   607.572\n",
       "2021-12-31 21:00:00   801.849\n",
       "2021-12-31 22:00:00  1024.193\n",
       "2021-12-31 23:00:00  1023.481\n",
       "\n",
       "[17544 rows x 1 columns]"
      ]
     },
     "execution_count": 67,
     "metadata": {},
     "output_type": "execute_result"
    }
   ],
   "source": [
    "result = result.reindex(test_label.index).fillna(method=\"bfill\").fillna(method=\"ffill\").fillna(0)\n",
    "result.to_csv(f\"../data/submit/submit_{datetime.now().strftime('%Y%m%d-%H%M%S')}.csv\")\n",
    "result"
   ]
  },
  {
   "cell_type": "code",
   "execution_count": null,
   "id": "07d66835",
   "metadata": {},
   "outputs": [],
   "source": []
  }
 ],
 "metadata": {
  "kernelspec": {
   "display_name": "Python 3 (ipykernel)",
   "language": "python",
   "name": "python3"
  },
  "language_info": {
   "codemirror_mode": {
    "name": "ipython",
    "version": 3
   },
   "file_extension": ".py",
   "mimetype": "text/x-python",
   "name": "python",
   "nbconvert_exporter": "python",
   "pygments_lexer": "ipython3",
   "version": "3.10.11"
  },
  "toc": {
   "base_numbering": 1,
   "nav_menu": {},
   "number_sections": true,
   "sideBar": true,
   "skip_h1_title": false,
   "title_cell": "Table of Contents",
   "title_sidebar": "Contents",
   "toc_cell": false,
   "toc_position": {
    "height": "calc(100% - 180px)",
    "left": "10px",
    "top": "150px",
    "width": "250.125px"
   },
   "toc_section_display": true,
   "toc_window_display": true
  },
  "varInspector": {
   "cols": {
    "lenName": 16,
    "lenType": 16,
    "lenVar": 40
   },
   "kernels_config": {
    "python": {
     "delete_cmd_postfix": "",
     "delete_cmd_prefix": "del ",
     "library": "var_list.py",
     "varRefreshCmd": "print(var_dic_list())"
    },
    "r": {
     "delete_cmd_postfix": ") ",
     "delete_cmd_prefix": "rm(",
     "library": "var_list.r",
     "varRefreshCmd": "cat(var_dic_list()) "
    }
   },
   "types_to_exclude": [
    "module",
    "function",
    "builtin_function_or_method",
    "instance",
    "_Feature"
   ],
   "window_display": false
  }
 },
 "nbformat": 4,
 "nbformat_minor": 5
}
