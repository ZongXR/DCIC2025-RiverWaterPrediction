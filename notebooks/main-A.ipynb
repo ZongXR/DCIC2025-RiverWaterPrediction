{
 "cells": [
  {
   "cell_type": "markdown",
   "id": "efa91d6d",
   "metadata": {},
   "source": [
    "<h3>导入包</h3>"
   ]
  },
  {
   "cell_type": "code",
   "execution_count": 34,
   "id": "def0faff",
   "metadata": {
    "ExecuteTime": {
     "end_time": "2025-03-12T13:40:45.332519Z",
     "start_time": "2025-03-12T13:40:45.326249Z"
    }
   },
   "outputs": [],
   "source": [
    "import os\n",
    "import re\n",
    "import logging\n",
    "from typing import Optional, List, Dict\n",
    "from datetime import datetime, date\n",
    "import json\n",
    "import numpy as np\n",
    "import pandas as pd\n",
    "from pandas import Series, DataFrame, DateOffset\n",
    "from sklearn.model_selection import train_test_split\n",
    "from sklearn.model_selection import StratifiedKFold, KFold\n",
    "from sklearn.metrics import mean_squared_error\n",
    "from sklearn.ensemble import GradientBoostingRegressor\n",
    "import xgboost as xgb\n",
    "from xgboost import DMatrix\n",
    "import lightgbm as lgb\n",
    "from lightgbm import Dataset\n",
    "import matplotlib.pyplot as plt\n",
    "from tqdm.notebook import tqdm\n",
    "from lunarcalendar import Lunar\n",
    "\n",
    "\n",
    "logging.basicConfig(format='%(asctime)s : %(levelname)s : %(message)s', level=logging.INFO)"
   ]
  },
  {
   "cell_type": "markdown",
   "id": "e6cbf94c",
   "metadata": {},
   "source": [
    "<h3>读取数据</h3>"
   ]
  },
  {
   "cell_type": "markdown",
   "id": "3a104823",
   "metadata": {},
   "source": [
    "<h4>读取给定数据</h4>"
   ]
  },
  {
   "cell_type": "code",
   "execution_count": 35,
   "id": "95824996",
   "metadata": {
    "ExecuteTime": {
     "end_time": "2025-03-12T13:40:45.420473Z",
     "start_time": "2025-03-12T13:40:45.333503Z"
    }
   },
   "outputs": [
    {
     "name": "stderr",
     "output_type": "stream",
     "text": [
      "2025-03-12 21:40:45,408 : INFO : 训练集入库流量数据(52561, 14)\n",
      "2025-03-12 21:40:45,408 : INFO : 提交样例(17544, 2)\n"
     ]
    }
   ],
   "source": [
    "train_label = pd.read_csv(\"../data/A榜/train/A-入库流量（2014-2019）.csv\")\n",
    "test_label = DataFrame(index=pd.date_range(start=\"2020-01-01 00:00:00\", end=\"2021-12-31 23:00:00\", freq=\"H\"), columns=[\"V\"]).reset_index().rename(columns={\"index\": \"TIME\"})\n",
    "logging.info(f\"训练集入库流量数据{train_label.shape}\")\n",
    "logging.info(f\"提交样例{test_label.shape}\")"
   ]
  },
  {
   "cell_type": "markdown",
   "id": "3404a579",
   "metadata": {},
   "source": [
    "<h4>读取外部数据</h4>"
   ]
  },
  {
   "cell_type": "code",
   "execution_count": 36,
   "id": "564fef1d",
   "metadata": {
    "ExecuteTime": {
     "end_time": "2025-03-12T13:40:46.731635Z",
     "start_time": "2025-03-12T13:40:45.420473Z"
    }
   },
   "outputs": [],
   "source": [
    "data_rain = pd.read_csv(\"../data/外部数据/open-meteo-rain.csv\", skiprows=122)"
   ]
  },
  {
   "cell_type": "markdown",
   "id": "489bcc73",
   "metadata": {},
   "source": [
    "<h3>数据预处理</h3>"
   ]
  },
  {
   "cell_type": "markdown",
   "id": "c6c2593a",
   "metadata": {},
   "source": [
    "<h4>处理标签</h4>"
   ]
  },
  {
   "cell_type": "code",
   "execution_count": 37,
   "id": "638cbc3d",
   "metadata": {
    "ExecuteTime": {
     "end_time": "2025-03-12T13:40:46.747064Z",
     "start_time": "2025-03-12T13:40:46.733635Z"
    }
   },
   "outputs": [],
   "source": [
    "def process_time(df: DataFrame, mode: str = \"x\") -> DataFrame:\n",
    "    \"\"\"\n",
    "    处理时间\\n\n",
    "    \"\"\"\n",
    "    result = df.copy()\n",
    "    if \"x\" == mode:\n",
    "        result[\"time\"] = pd.to_datetime(result[\"time\"])\n",
    "    elif \"y\" == mode:\n",
    "        result[\"TIME\"] = pd.to_datetime(result[\"TIME\"])\n",
    "        result = result.set_index(\"TIME\", drop=True)\n",
    "        result = result.reindex(pd.date_range(start=result.index.min(), end=result.index.max(), freq=\"H\"))\n",
    "    else:\n",
    "        raise ValueError(f\"未知的参数mode={mode}\")\n",
    "    return result "
   ]
  },
  {
   "cell_type": "code",
   "execution_count": 38,
   "id": "303f34be",
   "metadata": {
    "ExecuteTime": {
     "end_time": "2025-03-12T13:40:49.225540Z",
     "start_time": "2025-03-12T13:40:46.748065Z"
    }
   },
   "outputs": [],
   "source": [
    "data_rain = process_time(data_rain, \"x\")\n",
    "train_label = process_time(train_label, \"y\")\n",
    "test_label = process_time(test_label, \"y\")"
   ]
  },
  {
   "cell_type": "markdown",
   "id": "e2fb251d",
   "metadata": {},
   "source": [
    "<h4>处理异常值</h4>"
   ]
  },
  {
   "cell_type": "code",
   "execution_count": 39,
   "id": "4c7cc60d",
   "metadata": {
    "ExecuteTime": {
     "end_time": "2025-03-12T13:40:49.240942Z",
     "start_time": "2025-03-12T13:40:49.225540Z"
    }
   },
   "outputs": [],
   "source": [
    "def process_outliers(df: DataFrame):\n",
    "    \"\"\"\n",
    "    处理异常值\\n\n",
    "    \"\"\"\n",
    "    df[df[[\"V\", \"AVGV\", \"MAXV\", \"MINV\", \"S\", \"AVGS\", \"MAXS\", \"MINS\"]] < 0] = np.nan"
   ]
  },
  {
   "cell_type": "code",
   "execution_count": 40,
   "id": "287dfcbb",
   "metadata": {
    "ExecuteTime": {
     "end_time": "2025-03-12T13:40:49.257058Z",
     "start_time": "2025-03-12T13:40:49.241944Z"
    }
   },
   "outputs": [],
   "source": [
    "process_outliers(train_label)"
   ]
  },
  {
   "cell_type": "markdown",
   "id": "33b9e440",
   "metadata": {},
   "source": [
    "<h3>探索性数据分析</h3>"
   ]
  },
  {
   "cell_type": "markdown",
   "id": "505f5347",
   "metadata": {},
   "source": [
    "<h4>入库流量分析</h4>"
   ]
  },
  {
   "cell_type": "code",
   "execution_count": 41,
   "id": "ab547d69",
   "metadata": {
    "ExecuteTime": {
     "end_time": "2025-03-12T13:40:49.460929Z",
     "start_time": "2025-03-12T13:40:49.257058Z"
    }
   },
   "outputs": [
    {
     "data": {
      "text/plain": [
       "<Axes: >"
      ]
     },
     "execution_count": 41,
     "metadata": {},
     "output_type": "execute_result"
    },
    {
     "data": {
      "image/png": "[encoded data removed]",
      "text/plain": [
       "<Figure size 640x480 with 1 Axes>"
      ]
     },
     "metadata": {},
     "output_type": "display_data"
    }
   ],
   "source": [
    "train_label[\"V\"].plot()"
   ]
  },
  {
   "cell_type": "markdown",
   "id": "1ac2cbbf",
   "metadata": {},
   "source": [
    "<h3>特征工程</h3>"
   ]
  },
  {
   "cell_type": "markdown",
   "id": "099e262d",
   "metadata": {},
   "source": [
    "<h4>确实最佳lag</h4>"
   ]
  },
  {
   "cell_type": "code",
   "execution_count": 42,
   "id": "555d91b3",
   "metadata": {
    "ExecuteTime": {
     "end_time": "2025-03-12T13:40:49.476930Z",
     "start_time": "2025-03-12T13:40:49.461930Z"
    }
   },
   "outputs": [],
   "source": [
    "def best_lag_with_corr(x: DataFrame, y: DataFrame, max_lag: int) -> int:\n",
    "    \"\"\"\n",
    "    确定x和y的最佳lag\\n\n",
    "    \"\"\"\n",
    "    df = pd.merge(x, y, how=\"right\", left_index=True, right_index=True)\n",
    "    corrs = []\n",
    "    for i in range(0, max_lag + 1):\n",
    "        df_new = df[[\"rain (mm)\", \"V\"]].copy()\n",
    "        if i > 0:\n",
    "            df_new[\"V\"] = df_new[\"V\"].diff(i).shift(-i)\n",
    "        df_new = df_new.dropna()\n",
    "        df_new = (df_new - df_new.mean()) / df_new.std()\n",
    "        corrs.append(df_new.corr().loc[\"rain (mm)\", \"V\"])\n",
    "    return range(0, max_lag + 1)[np.argmax(corrs)]"
   ]
  },
  {
   "cell_type": "code",
   "execution_count": 43,
   "id": "0b0123ff",
   "metadata": {
    "ExecuteTime": {
     "end_time": "2025-03-12T13:40:49.493171Z",
     "start_time": "2025-03-12T13:40:49.478930Z"
    }
   },
   "outputs": [],
   "source": [
    "def best_lag_with_gbdt(x: DataFrame, y: DataFrame, max_lag: int) -> int:\n",
    "    \"\"\"\n",
    "    确定x和y的最佳lag\\n\n",
    "    \"\"\"\n",
    "    x = x.copy()\n",
    "    columns = [col.replace(\"_\", \"\") for col in x.columns]\n",
    "    for i in range(0, max_lag + 1):\n",
    "        for column in columns:\n",
    "            x[f\"{column}_{i}\"] = x[column].shift(i)\n",
    "    df = pd.merge(x, y[[\"V\"]], how=\"right\", left_index=True, right_index=True)\n",
    "    df = df.dropna()\n",
    "    x = df.drop(columns=columns)\n",
    "    y = x.pop(\"V\")\n",
    "    model = GradientBoostingRegressor(n_estimators=300, random_state=42)\n",
    "    model.fit(x, y)\n",
    "    best_feature = model.feature_names_in_[np.argmax(model.feature_importances_)]\n",
    "    return int(best_feature.split(\"_\")[1])"
   ]
  },
  {
   "cell_type": "markdown",
   "id": "bf3c532e",
   "metadata": {},
   "source": [
    "<h4>农历特征</h4>"
   ]
  },
  {
   "cell_type": "code",
   "execution_count": 44,
   "id": "f668d837",
   "metadata": {
    "ExecuteTime": {
     "end_time": "2025-03-12T13:40:49.509914Z",
     "start_time": "2025-03-12T13:40:49.493171Z"
    }
   },
   "outputs": [],
   "source": [
    "def lunar_features(df: DataFrame) -> DataFrame:\n",
    "    \"\"\"\n",
    "    农历特征\\n\n",
    "    \"\"\"\n",
    "    result = df.copy()\n",
    "    result[\"lunar_year\"] = result.index.to_series().apply(lambda x: Lunar.from_date(x).year)\n",
    "    result[\"lunar_month\"] = result.index.to_series().apply(lambda x: Lunar.from_date(x).month)\n",
    "    result[\"lunar_day\"] = result.index.to_series().apply(lambda x: Lunar.from_date(x).day)\n",
    "    result[\"lunar_leap\"] = result.index.to_series().apply(lambda x: Lunar.from_date(x).isleap)\n",
    "    return result"
   ]
  },
  {
   "cell_type": "code",
   "execution_count": null,
   "id": "342fb1c3",
   "metadata": {
    "ExecuteTime": {
     "end_time": "2025-03-12T07:48:26.070751Z",
     "start_time": "2025-03-12T07:48:23.977517Z"
    }
   },
   "outputs": [],
   "source": []
  },
  {
   "cell_type": "markdown",
   "id": "84122359",
   "metadata": {},
   "source": [
    "<h4>不同站点横向拼接</h4>"
   ]
  },
  {
   "cell_type": "code",
   "execution_count": 45,
   "id": "eee68960",
   "metadata": {
    "ExecuteTime": {
     "end_time": "2025-03-12T13:40:49.526787Z",
     "start_time": "2025-03-12T13:40:49.509914Z"
    }
   },
   "outputs": [],
   "source": [
    "def feature_engineering(x: DataFrame, y: DataFrame, lags: Optional[Dict] = None) -> (DataFrame, Dict):\n",
    "    \"\"\"\n",
    "    特征工程\\n\n",
    "    \"\"\"\n",
    "    results = []\n",
    "    lag_results = dict()\n",
    "    for location_id, df in tqdm(x.groupby(\"location_id\")):\n",
    "        df = df.set_index(\"time\", drop=True).drop(columns=[\"location_id\"])\n",
    "        df = df.reindex(pd.date_range(start=y.index.min(), end=y.index.max(), freq=\"H\"))\n",
    "        if lags is None:\n",
    "            lag = best_lag_with_gbdt(df, y, 48)\n",
    "            lag_results[location_id] = lag\n",
    "        else:\n",
    "            if location_id not in lags.keys():\n",
    "                continue\n",
    "            else:\n",
    "                lag = lags[location_id]\n",
    "        df = df.rename(columns={k: f\"{k}_{location_id}\" for k in df.columns})\n",
    "        if lag > 0:\n",
    "            df.index = df.index.shift(freq=f\"{lag}H\")\n",
    "        results.append(df)\n",
    "    result = pd.concat(results, axis=1)\n",
    "    columns = result.columns.copy()\n",
    "    result[\"V_sum\"] = result[columns].sum(axis=1)\n",
    "    result[\"V_std\"] = result[columns].std(axis=1)\n",
    "    result[\"V_median\"] = result[columns].median(axis=1)\n",
    "    result[\"V_max\"] = result[columns].max(axis=1)\n",
    "    result[\"V_skew\"] = result[columns].skew(axis=1)\n",
    "    result[\"V_kurt\"] = result[columns].kurt(axis=1)\n",
    "    result[\"year\"] = result.index.year\n",
    "    result[\"month\"] = result.index.month\n",
    "    result[\"day\"] = result.index.day\n",
    "    result[\"hour\"] = result.index.hour\n",
    "    result[[\"year\", \"month\", \"day\", \"hour\"]] = result[[\"year\", \"month\", \"day\", \"hour\"]].astype(\"category\")\n",
    "    return result, lag_results"
   ]
  },
  {
   "cell_type": "code",
   "execution_count": 46,
   "id": "7f4f67b4",
   "metadata": {
    "ExecuteTime": {
     "end_time": "2025-03-12T13:40:51.631657Z",
     "start_time": "2025-03-12T13:40:49.526787Z"
    }
   },
   "outputs": [
    {
     "data": {
      "application/vnd.jupyter.widget-view+json": {
       "model_id": "09ec942d74024bf38637e04c6e2d9695",
       "version_major": 2,
       "version_minor": 0
      },
      "text/plain": [
       "  0%|          | 0/120 [00:00<?, ?it/s]"
      ]
     },
     "metadata": {},
     "output_type": "display_data"
    },
    {
     "name": "stderr",
     "output_type": "stream",
     "text": [
      "C:\\Users\\DrZon\\AppData\\Local\\Temp\\ipykernel_16172\\3437627376.py:24: PerformanceWarning: DataFrame is highly fragmented.  This is usually the result of calling `frame.insert` many times, which has poor performance.  Consider joining all columns at once using pd.concat(axis=1) instead. To get a de-fragmented frame, use `newframe = frame.copy()`\n",
      "  result[\"V_sum\"] = result[columns].sum(axis=1)\n",
      "C:\\Users\\DrZon\\AppData\\Local\\Temp\\ipykernel_16172\\3437627376.py:25: PerformanceWarning: DataFrame is highly fragmented.  This is usually the result of calling `frame.insert` many times, which has poor performance.  Consider joining all columns at once using pd.concat(axis=1) instead. To get a de-fragmented frame, use `newframe = frame.copy()`\n",
      "  result[\"V_std\"] = result[columns].std(axis=1)\n",
      "C:\\Users\\DrZon\\AppData\\Local\\Temp\\ipykernel_16172\\3437627376.py:26: PerformanceWarning: DataFrame is highly fragmented.  This is usually the result of calling `frame.insert` many times, which has poor performance.  Consider joining all columns at once using pd.concat(axis=1) instead. To get a de-fragmented frame, use `newframe = frame.copy()`\n",
      "  result[\"V_median\"] = result[columns].median(axis=1)\n",
      "C:\\Users\\DrZon\\AppData\\Local\\Temp\\ipykernel_16172\\3437627376.py:27: PerformanceWarning: DataFrame is highly fragmented.  This is usually the result of calling `frame.insert` many times, which has poor performance.  Consider joining all columns at once using pd.concat(axis=1) instead. To get a de-fragmented frame, use `newframe = frame.copy()`\n",
      "  result[\"V_max\"] = result[columns].max(axis=1)\n",
      "C:\\Users\\DrZon\\AppData\\Local\\Temp\\ipykernel_16172\\3437627376.py:28: PerformanceWarning: DataFrame is highly fragmented.  This is usually the result of calling `frame.insert` many times, which has poor performance.  Consider joining all columns at once using pd.concat(axis=1) instead. To get a de-fragmented frame, use `newframe = frame.copy()`\n",
      "  result[\"V_skew\"] = result[columns].skew(axis=1)\n",
      "C:\\Users\\DrZon\\AppData\\Local\\Temp\\ipykernel_16172\\3437627376.py:29: PerformanceWarning: DataFrame is highly fragmented.  This is usually the result of calling `frame.insert` many times, which has poor performance.  Consider joining all columns at once using pd.concat(axis=1) instead. To get a de-fragmented frame, use `newframe = frame.copy()`\n",
      "  result[\"V_kurt\"] = result[columns].kurt(axis=1)\n",
      "C:\\Users\\DrZon\\AppData\\Local\\Temp\\ipykernel_16172\\3437627376.py:30: PerformanceWarning: DataFrame is highly fragmented.  This is usually the result of calling `frame.insert` many times, which has poor performance.  Consider joining all columns at once using pd.concat(axis=1) instead. To get a de-fragmented frame, use `newframe = frame.copy()`\n",
      "  result[\"year\"] = result.index.year\n",
      "C:\\Users\\DrZon\\AppData\\Local\\Temp\\ipykernel_16172\\3437627376.py:31: PerformanceWarning: DataFrame is highly fragmented.  This is usually the result of calling `frame.insert` many times, which has poor performance.  Consider joining all columns at once using pd.concat(axis=1) instead. To get a de-fragmented frame, use `newframe = frame.copy()`\n",
      "  result[\"month\"] = result.index.month\n",
      "C:\\Users\\DrZon\\AppData\\Local\\Temp\\ipykernel_16172\\3437627376.py:32: PerformanceWarning: DataFrame is highly fragmented.  This is usually the result of calling `frame.insert` many times, which has poor performance.  Consider joining all columns at once using pd.concat(axis=1) instead. To get a de-fragmented frame, use `newframe = frame.copy()`\n",
      "  result[\"day\"] = result.index.day\n",
      "C:\\Users\\DrZon\\AppData\\Local\\Temp\\ipykernel_16172\\3437627376.py:33: PerformanceWarning: DataFrame is highly fragmented.  This is usually the result of calling `frame.insert` many times, which has poor performance.  Consider joining all columns at once using pd.concat(axis=1) instead. To get a de-fragmented frame, use `newframe = frame.copy()`\n",
      "  result[\"hour\"] = result.index.hour\n"
     ]
    },
    {
     "data": {
      "application/vnd.jupyter.widget-view+json": {
       "model_id": "3ebac637623a442fa0f97768cf3274d6",
       "version_major": 2,
       "version_minor": 0
      },
      "text/plain": [
       "  0%|          | 0/120 [00:00<?, ?it/s]"
      ]
     },
     "metadata": {},
     "output_type": "display_data"
    },
    {
     "name": "stderr",
     "output_type": "stream",
     "text": [
      "C:\\Users\\DrZon\\AppData\\Local\\Temp\\ipykernel_16172\\3437627376.py:24: PerformanceWarning: DataFrame is highly fragmented.  This is usually the result of calling `frame.insert` many times, which has poor performance.  Consider joining all columns at once using pd.concat(axis=1) instead. To get a de-fragmented frame, use `newframe = frame.copy()`\n",
      "  result[\"V_sum\"] = result[columns].sum(axis=1)\n",
      "C:\\Users\\DrZon\\AppData\\Local\\Temp\\ipykernel_16172\\3437627376.py:25: PerformanceWarning: DataFrame is highly fragmented.  This is usually the result of calling `frame.insert` many times, which has poor performance.  Consider joining all columns at once using pd.concat(axis=1) instead. To get a de-fragmented frame, use `newframe = frame.copy()`\n",
      "  result[\"V_std\"] = result[columns].std(axis=1)\n",
      "C:\\Users\\DrZon\\AppData\\Local\\Temp\\ipykernel_16172\\3437627376.py:26: PerformanceWarning: DataFrame is highly fragmented.  This is usually the result of calling `frame.insert` many times, which has poor performance.  Consider joining all columns at once using pd.concat(axis=1) instead. To get a de-fragmented frame, use `newframe = frame.copy()`\n",
      "  result[\"V_median\"] = result[columns].median(axis=1)\n",
      "C:\\Users\\DrZon\\AppData\\Local\\Temp\\ipykernel_16172\\3437627376.py:27: PerformanceWarning: DataFrame is highly fragmented.  This is usually the result of calling `frame.insert` many times, which has poor performance.  Consider joining all columns at once using pd.concat(axis=1) instead. To get a de-fragmented frame, use `newframe = frame.copy()`\n",
      "  result[\"V_max\"] = result[columns].max(axis=1)\n",
      "C:\\Users\\DrZon\\AppData\\Local\\Temp\\ipykernel_16172\\3437627376.py:28: PerformanceWarning: DataFrame is highly fragmented.  This is usually the result of calling `frame.insert` many times, which has poor performance.  Consider joining all columns at once using pd.concat(axis=1) instead. To get a de-fragmented frame, use `newframe = frame.copy()`\n",
      "  result[\"V_skew\"] = result[columns].skew(axis=1)\n",
      "C:\\Users\\DrZon\\AppData\\Local\\Temp\\ipykernel_16172\\3437627376.py:29: PerformanceWarning: DataFrame is highly fragmented.  This is usually the result of calling `frame.insert` many times, which has poor performance.  Consider joining all columns at once using pd.concat(axis=1) instead. To get a de-fragmented frame, use `newframe = frame.copy()`\n",
      "  result[\"V_kurt\"] = result[columns].kurt(axis=1)\n",
      "C:\\Users\\DrZon\\AppData\\Local\\Temp\\ipykernel_16172\\3437627376.py:30: PerformanceWarning: DataFrame is highly fragmented.  This is usually the result of calling `frame.insert` many times, which has poor performance.  Consider joining all columns at once using pd.concat(axis=1) instead. To get a de-fragmented frame, use `newframe = frame.copy()`\n",
      "  result[\"year\"] = result.index.year\n",
      "C:\\Users\\DrZon\\AppData\\Local\\Temp\\ipykernel_16172\\3437627376.py:31: PerformanceWarning: DataFrame is highly fragmented.  This is usually the result of calling `frame.insert` many times, which has poor performance.  Consider joining all columns at once using pd.concat(axis=1) instead. To get a de-fragmented frame, use `newframe = frame.copy()`\n",
      "  result[\"month\"] = result.index.month\n",
      "C:\\Users\\DrZon\\AppData\\Local\\Temp\\ipykernel_16172\\3437627376.py:32: PerformanceWarning: DataFrame is highly fragmented.  This is usually the result of calling `frame.insert` many times, which has poor performance.  Consider joining all columns at once using pd.concat(axis=1) instead. To get a de-fragmented frame, use `newframe = frame.copy()`\n",
      "  result[\"day\"] = result.index.day\n",
      "C:\\Users\\DrZon\\AppData\\Local\\Temp\\ipykernel_16172\\3437627376.py:33: PerformanceWarning: DataFrame is highly fragmented.  This is usually the result of calling `frame.insert` many times, which has poor performance.  Consider joining all columns at once using pd.concat(axis=1) instead. To get a de-fragmented frame, use `newframe = frame.copy()`\n",
      "  result[\"hour\"] = result.index.hour\n"
     ]
    }
   ],
   "source": [
    "if os.path.exists(\"../data/lags_by_location.json\"):\n",
    "    with open(\"../data/lags_by_location.json\", \"r\", encoding=\"utf-8\") as f:\n",
    "        lags_by_location = json.load(f)\n",
    "        lags_by_location = {int(k): v for k, v in lags_by_location.items()}\n",
    "    train_rain_group_by_location, _ = feature_engineering(data_rain, train_label, lags_by_location)\n",
    "    test_rain_group_by_location, _ = feature_engineering(data_rain, test_label, lags_by_location)\n",
    "else:\n",
    "    train_rain_group_by_location, lags_by_location = feature_engineering(data_rain, train_label)\n",
    "    test_rain_group_by_location, _ = feature_engineering(data_rain, test_label, lags_by_location)\n",
    "    with open(\"../data/lags_by_location.json\", \"w\", encoding=\"utf-8\") as f:\n",
    "        json.dump(lags_by_location, f)"
   ]
  },
  {
   "cell_type": "markdown",
   "id": "a7a9bb4b",
   "metadata": {},
   "source": [
    "<h4>合并标签和特征</h4>"
   ]
  },
  {
   "cell_type": "code",
   "execution_count": 47,
   "id": "017a6250",
   "metadata": {
    "ExecuteTime": {
     "end_time": "2025-03-12T13:40:51.705110Z",
     "start_time": "2025-03-12T13:40:51.632658Z"
    }
   },
   "outputs": [],
   "source": [
    "train_data = pd.merge(train_rain_group_by_location, train_label[[\"V\"]], how=\"right\", left_index=True, right_index=True)\n",
    "test_data = pd.merge(test_rain_group_by_location, test_label[[\"V\"]], how=\"right\", left_index=True, right_index=True)\n",
    "test_data = test_data.reindex(columns=train_data.columns)"
   ]
  },
  {
   "cell_type": "markdown",
   "id": "5786512d",
   "metadata": {},
   "source": [
    "<h4>划分xy</h4>"
   ]
  },
  {
   "cell_type": "code",
   "execution_count": 48,
   "id": "d72f66ef",
   "metadata": {
    "ExecuteTime": {
     "end_time": "2025-03-12T13:40:51.722019Z",
     "start_time": "2025-03-12T13:40:51.705110Z"
    }
   },
   "outputs": [],
   "source": [
    "def split_xy(df: DataFrame, na_values: str = \"fill\") -> (DataFrame, Series):\n",
    "    \"\"\"\n",
    "    划分xy\\n\n",
    "    \"\"\"\n",
    "    x = df.copy()\n",
    "    if \"fill\" == na_values:\n",
    "        y = x.pop(\"V\")   \n",
    "        y = y.fillna(method=\"bfill\").fillna(method=\"ffill\").fillna(0)\n",
    "        x[x.select_dtypes(exclude=['category']).columns] = x[x.select_dtypes(exclude=['category']).columns].fillna(0).astype(np.float32)\n",
    "    elif \"drop\" == na_values:\n",
    "        x = x.dropna(how=\"all\", subset=[x for x in x.columns if x not in [\"year\", \"month\", \"day\", \"hour\", \"V\"]])\n",
    "        y = x.pop(\"V\")\n",
    "        y = y.fillna(method=\"bfill\").fillna(method=\"ffill\").fillna(0)\n",
    "        x[x.select_dtypes(exclude=['category']).columns] = x[x.select_dtypes(exclude=['category']).columns].astype(np.float32)\n",
    "    else:\n",
    "        raise ValueError(f\"未知的参数na_values={na_values}\")\n",
    "    return x, y"
   ]
  },
  {
   "cell_type": "code",
   "execution_count": 49,
   "id": "458226f3",
   "metadata": {
    "ExecuteTime": {
     "end_time": "2025-03-12T13:40:51.862613Z",
     "start_time": "2025-03-12T13:40:51.722019Z"
    }
   },
   "outputs": [],
   "source": [
    "train_x, train_y = split_xy(train_data, \"drop\")\n",
    "test_x, test_y = split_xy(test_data, \"fill\")"
   ]
  },
  {
   "cell_type": "markdown",
   "id": "a6b4555d",
   "metadata": {},
   "source": [
    "<h3>训练模型</h3>"
   ]
  },
  {
   "cell_type": "markdown",
   "id": "ae653e1e",
   "metadata": {
    "ExecuteTime": {
     "end_time": "2025-03-04T01:41:07.517917Z",
     "start_time": "2025-03-04T01:41:07.489800Z"
    }
   },
   "source": [
    "<h4>评测指标</h4>"
   ]
  },
  {
   "cell_type": "code",
   "execution_count": 50,
   "id": "00ee1039",
   "metadata": {
    "ExecuteTime": {
     "end_time": "2025-03-12T13:40:51.878613Z",
     "start_time": "2025-03-12T13:40:51.863613Z"
    }
   },
   "outputs": [],
   "source": [
    "def score(y_true, y_pred):\n",
    "    mse = mean_squared_error(y_true, y_pred)\n",
    "    rmse = np.sqrt(mse)\n",
    "    return 1 / (1 + rmse)"
   ]
  },
  {
   "cell_type": "markdown",
   "id": "7f1759de",
   "metadata": {},
   "source": [
    "<h4>lightgbm模型</h4>"
   ]
  },
  {
   "cell_type": "code",
   "execution_count": 51,
   "id": "358d335b",
   "metadata": {
    "ExecuteTime": {
     "end_time": "2025-03-12T13:40:51.893668Z",
     "start_time": "2025-03-12T13:40:51.879613Z"
    }
   },
   "outputs": [],
   "source": [
    "params_lgb = {\n",
    "    \"num_boost_round\": 300,\n",
    "    'learning_rate': 0.02,\n",
    "    'boosting_type': 'gbdt',\n",
    "    'objective': 'mse',\n",
    "    'metric': 'rmse',\n",
    "    'num_leaves': 127,\n",
    "    'verbose': -1,\n",
    "    'seed': 42,\n",
    "    'n_jobs': -1,\n",
    "    'feature_fraction': 0.8,\n",
    "    'bagging_fraction': 0.9,\n",
    "    'bagging_freq': 4,\n",
    "    \"early_stopping_round\": 100\n",
    "}\n",
    "model_lgb = []"
   ]
  },
  {
   "cell_type": "markdown",
   "id": "b38143cd",
   "metadata": {},
   "source": [
    "<h4>xgboost模型</h4>"
   ]
  },
  {
   "cell_type": "code",
   "execution_count": 52,
   "id": "396b5d7b",
   "metadata": {
    "ExecuteTime": {
     "end_time": "2025-03-12T13:40:51.905748Z",
     "start_time": "2025-03-12T13:40:51.893668Z"
    }
   },
   "outputs": [],
   "source": [
    "params_xgb = {\n",
    "    \"num_boost_round\": 300,\n",
    "    \"learning_rate\": 0.02,\n",
    "    \"booster\": \"gbtree\",\n",
    "    \"objective\": \"reg:squarederror\",\n",
    "    \"eval_metric\": \"rmse\",\n",
    "    \"max_leaves\": 127,\n",
    "    \"verbosity\": 1,\n",
    "    \"seed\": 42,\n",
    "    \"nthread\": -1,\n",
    "    \"colsample_bytree\": 0.6,\n",
    "    \"subsample\": 0.7,\n",
    "    \"early_stopping_rounds\": 100\n",
    "}\n",
    "model_xgb = []"
   ]
  },
  {
   "cell_type": "markdown",
   "id": "b5d3f837",
   "metadata": {},
   "source": [
    "<h4>交叉验证</h4>"
   ]
  },
  {
   "cell_type": "code",
   "execution_count": 53,
   "id": "423b332d",
   "metadata": {
    "ExecuteTime": {
     "end_time": "2025-03-12T13:41:25.154233Z",
     "start_time": "2025-03-12T13:40:51.905748Z"
    }
   },
   "outputs": [
    {
     "name": "stderr",
     "output_type": "stream",
     "text": [
      "2025-03-12 21:40:51,909 : INFO : ############ fold: 0 ###########\n",
      "C:\\Program Files\\Python310\\lib\\site-packages\\lightgbm\\engine.py:172: UserWarning: Found `num_boost_round` in params. Will use it instead of argument\n",
      "  _log_warning(f\"Found `{alias}` in params. Will use it instead of argument\")\n"
     ]
    },
    {
     "name": "stdout",
     "output_type": "stream",
     "text": [
      "[21:40:54] WARNING: C:\\buildkite-agent\\builds\\buildkite-windows-cpu-autoscaling-group-i-0fdc6d574b9c0d168-1\\xgboost\\xgboost-ci-windows\\src\\learner.cc:767: \n",
      "Parameters: { \"early_stopping_rounds\", \"num_boost_round\" } are not used.\n",
      "\n",
      "[0]\ttrain-rmse:2767.00226\teval-rmse:2736.92488\n",
      "[299]\ttrain-rmse:886.08580\teval-rmse:1023.33611\n"
     ]
    },
    {
     "name": "stderr",
     "output_type": "stream",
     "text": [
      "2025-03-12 21:40:58,617 : INFO : ############ fold: 1 ###########\n",
      "C:\\Program Files\\Python310\\lib\\site-packages\\lightgbm\\engine.py:172: UserWarning: Found `num_boost_round` in params. Will use it instead of argument\n",
      "  _log_warning(f\"Found `{alias}` in params. Will use it instead of argument\")\n"
     ]
    },
    {
     "name": "stdout",
     "output_type": "stream",
     "text": [
      "[21:41:00] WARNING: C:\\buildkite-agent\\builds\\buildkite-windows-cpu-autoscaling-group-i-0fdc6d574b9c0d168-1\\xgboost\\xgboost-ci-windows\\src\\learner.cc:767: \n",
      "Parameters: { \"early_stopping_rounds\", \"num_boost_round\" } are not used.\n",
      "\n",
      "[0]\ttrain-rmse:2750.51161\teval-rmse:2802.61306\n",
      "[299]\ttrain-rmse:884.81467\teval-rmse:1063.09591\n"
     ]
    },
    {
     "name": "stderr",
     "output_type": "stream",
     "text": [
      "2025-03-12 21:41:05,279 : INFO : ############ fold: 2 ###########\n",
      "C:\\Program Files\\Python310\\lib\\site-packages\\lightgbm\\engine.py:172: UserWarning: Found `num_boost_round` in params. Will use it instead of argument\n",
      "  _log_warning(f\"Found `{alias}` in params. Will use it instead of argument\")\n"
     ]
    },
    {
     "name": "stdout",
     "output_type": "stream",
     "text": [
      "[21:41:07] WARNING: C:\\buildkite-agent\\builds\\buildkite-windows-cpu-autoscaling-group-i-0fdc6d574b9c0d168-1\\xgboost\\xgboost-ci-windows\\src\\learner.cc:767: \n",
      "Parameters: { \"early_stopping_rounds\", \"num_boost_round\" } are not used.\n",
      "\n",
      "[0]\ttrain-rmse:2754.99755\teval-rmse:2785.84116\n",
      "[299]\ttrain-rmse:882.56820\teval-rmse:1034.18385\n"
     ]
    },
    {
     "name": "stderr",
     "output_type": "stream",
     "text": [
      "2025-03-12 21:41:11,870 : INFO : ############ fold: 3 ###########\n",
      "C:\\Program Files\\Python310\\lib\\site-packages\\lightgbm\\engine.py:172: UserWarning: Found `num_boost_round` in params. Will use it instead of argument\n",
      "  _log_warning(f\"Found `{alias}` in params. Will use it instead of argument\")\n"
     ]
    },
    {
     "name": "stdout",
     "output_type": "stream",
     "text": [
      "[21:41:13] WARNING: C:\\buildkite-agent\\builds\\buildkite-windows-cpu-autoscaling-group-i-0fdc6d574b9c0d168-1\\xgboost\\xgboost-ci-windows\\src\\learner.cc:767: \n",
      "Parameters: { \"early_stopping_rounds\", \"num_boost_round\" } are not used.\n",
      "\n",
      "[0]\ttrain-rmse:2780.38761\teval-rmse:2681.83526\n",
      "[299]\ttrain-rmse:888.87311\teval-rmse:1009.57608\n"
     ]
    },
    {
     "name": "stderr",
     "output_type": "stream",
     "text": [
      "2025-03-12 21:41:18,496 : INFO : ############ fold: 4 ###########\n",
      "C:\\Program Files\\Python310\\lib\\site-packages\\lightgbm\\engine.py:172: UserWarning: Found `num_boost_round` in params. Will use it instead of argument\n",
      "  _log_warning(f\"Found `{alias}` in params. Will use it instead of argument\")\n"
     ]
    },
    {
     "name": "stdout",
     "output_type": "stream",
     "text": [
      "[21:41:20] WARNING: C:\\buildkite-agent\\builds\\buildkite-windows-cpu-autoscaling-group-i-0fdc6d574b9c0d168-1\\xgboost\\xgboost-ci-windows\\src\\learner.cc:767: \n",
      "Parameters: { \"early_stopping_rounds\", \"num_boost_round\" } are not used.\n",
      "\n",
      "[0]\ttrain-rmse:2751.08840\teval-rmse:2800.44119\n",
      "[299]\ttrain-rmse:884.08168\teval-rmse:1075.35563\n"
     ]
    },
    {
     "name": "stderr",
     "output_type": "stream",
     "text": [
      "2025-03-12 21:41:25,145 : INFO : --------------本地分数 0.0011156167056779725--------------\n"
     ]
    }
   ],
   "source": [
    "kfold = KFold(n_splits=5, random_state=42, shuffle=True)\n",
    "\n",
    "mse = 0\n",
    "for fold, (train_index, val_index) in enumerate(kfold.split(train_x, train_y)):\n",
    "    logging.info(f'############ fold: {fold} ###########')\n",
    "    x_train, x_val, y_train, y_val = train_x.iloc[train_index], train_x.iloc[val_index], train_y.iloc[train_index], train_y.iloc[val_index]\n",
    "    \n",
    "    trainset = Dataset(x_train, y_train)\n",
    "    valset = Dataset(x_val, y_val)\n",
    "    model = lgb.train(params_lgb, trainset, valid_sets=[trainset, valset], categorical_feature=\"auto\", callbacks=[lgb.log_evaluation(1000)])\n",
    "    model.save_model(\"../models/lgb_%d.txt\" % fold)\n",
    "    model_lgb.append(model)\n",
    "    lgb_pred = Series(model.predict(x_val, num_iteration=model.best_iteration), index=y_val.index).fillna(0)\n",
    "    \n",
    "    trainset = DMatrix(x_train, y_train, enable_categorical=True, nthread=-1)\n",
    "    valset = DMatrix(x_val, y_val, enable_categorical=True, nthread=-1)\n",
    "    model = xgb.train(params_xgb, trainset, evals=[(trainset, 'train'),(valset, 'eval')], num_boost_round=params_xgb[\"num_boost_round\"], early_stopping_rounds=params_xgb[\"early_stopping_rounds\"], verbose_eval=1000)\n",
    "    model.save_model(\"../models/xgb_%d.json\" % fold)\n",
    "    model_xgb.append(model)\n",
    "    xgb_pred = Series(model.predict(valset, iteration_range=(0, model.best_ntree_limit)), index=y_val.index).fillna(0)\n",
    "    \n",
    "    val_pred = (lgb_pred + xgb_pred) / 2\n",
    "    mse += mean_squared_error(y_val.fillna(0), val_pred)\n",
    "rmse = np.sqrt(mse / kfold.n_splits)\n",
    "score = 1 / (1 + rmse)\n",
    "logging.info(f\"--------------本地分数 {score}--------------\")"
   ]
  },
  {
   "cell_type": "markdown",
   "id": "ff47793d",
   "metadata": {},
   "source": [
    "<h3>测试</h3>"
   ]
  },
  {
   "cell_type": "markdown",
   "id": "62ac8215",
   "metadata": {},
   "source": [
    "<h4>计算测试集标签</h4>"
   ]
  },
  {
   "cell_type": "code",
   "execution_count": 54,
   "id": "59cb707a",
   "metadata": {
    "ExecuteTime": {
     "end_time": "2025-03-12T13:41:25.471456Z",
     "start_time": "2025-03-12T13:41:25.154233Z"
    }
   },
   "outputs": [],
   "source": [
    "y_pred = 0\n",
    "for i in range(kfold.n_splits):\n",
    "    lgb_pred = model_lgb[i].predict(test_x, num_iteration=model.best_iteration)\n",
    "    xgb_pred = model_xgb[i].predict(DMatrix(test_x, enable_categorical=True, nthread=-1), iteration_range=(0, model.best_ntree_limit))\n",
    "    y_pred += (lgb_pred + xgb_pred) / 2\n",
    "y_pred = y_pred / kfold.n_splits"
   ]
  },
  {
   "cell_type": "code",
   "execution_count": 55,
   "id": "0b110db2",
   "metadata": {
    "ExecuteTime": {
     "end_time": "2025-03-12T13:41:25.485619Z",
     "start_time": "2025-03-12T13:41:25.471456Z"
    }
   },
   "outputs": [
    {
     "data": {
      "text/plain": [
       "(17544,)"
      ]
     },
     "execution_count": 55,
     "metadata": {},
     "output_type": "execute_result"
    }
   ],
   "source": [
    "y_pred.shape"
   ]
  },
  {
   "cell_type": "code",
   "execution_count": 56,
   "id": "4bebcf14",
   "metadata": {
    "ExecuteTime": {
     "end_time": "2025-03-12T13:41:25.497609Z",
     "start_time": "2025-03-12T13:41:25.485619Z"
    }
   },
   "outputs": [],
   "source": [
    "y_pred[y_pred < 0] = 0\n",
    "test_label[\"V\"] = y_pred\n",
    "# test_label[\"V\"].iloc[0:24] = train_label[\"V\"].iloc[-24:]"
   ]
  },
  {
   "cell_type": "markdown",
   "id": "baa20e37",
   "metadata": {},
   "source": [
    "<h4>保存文件</h4>"
   ]
  },
  {
   "cell_type": "code",
   "execution_count": 57,
   "id": "1e37518c",
   "metadata": {
    "ExecuteTime": {
     "end_time": "2025-03-12T13:41:25.545658Z",
     "start_time": "2025-03-12T13:41:25.497609Z"
    }
   },
   "outputs": [],
   "source": [
    "test_label[[\"V\"]].to_csv(f\"../data/submit/submit_{datetime.now().strftime('%Y%m%d-%H%M%S')}.csv\", index_label=\"TIME\")"
   ]
  }
 ],
 "metadata": {
  "kernelspec": {
   "display_name": "Python 3 (ipykernel)",
   "language": "python",
   "name": "python3"
  },
  "language_info": {
   "codemirror_mode": {
    "name": "ipython",
    "version": 3
   },
   "file_extension": ".py",
   "mimetype": "text/x-python",
   "name": "python",
   "nbconvert_exporter": "python",
   "pygments_lexer": "ipython3",
   "version": "3.10.11"
  },
  "toc": {
   "base_numbering": 1,
   "nav_menu": {},
   "number_sections": true,
   "sideBar": true,
   "skip_h1_title": false,
   "title_cell": "Table of Contents",
   "title_sidebar": "Contents",
   "toc_cell": false,
   "toc_position": {
    "height": "calc(100% - 180px)",
    "left": "10px",
    "top": "150px",
    "width": "250.125px"
   },
   "toc_section_display": true,
   "toc_window_display": true
  },
  "varInspector": {
   "cols": {
    "lenName": 16,
    "lenType": 16,
    "lenVar": 40
   },
   "kernels_config": {
    "python": {
     "delete_cmd_postfix": "",
     "delete_cmd_prefix": "del ",
     "library": "var_list.py",
     "varRefreshCmd": "print(var_dic_list())"
    },
    "r": {
     "delete_cmd_postfix": ") ",
     "delete_cmd_prefix": "rm(",
     "library": "var_list.r",
     "varRefreshCmd": "cat(var_dic_list()) "
    }
   },
   "types_to_exclude": [
    "module",
    "function",
    "builtin_function_or_method",
    "instance",
    "_Feature"
   ],
   "window_display": false
  }
 },
 "nbformat": 4,
 "nbformat_minor": 5
}
