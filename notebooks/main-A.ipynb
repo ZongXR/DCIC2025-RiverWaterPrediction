{
 "cells": [
  {
   "cell_type": "markdown",
   "id": "efa91d6d",
   "metadata": {},
   "source": [
    "<h3>导入包</h3>"
   ]
  },
  {
   "cell_type": "code",
   "execution_count": 33,
   "id": "def0faff",
   "metadata": {
    "ExecuteTime": {
     "end_time": "2025-03-03T07:38:50.694847Z",
     "start_time": "2025-03-03T07:38:50.687788Z"
    }
   },
   "outputs": [],
   "source": [
    "import numpy as np\n",
    "import pandas as pd"
   ]
  },
  {
   "cell_type": "markdown",
   "id": "e6cbf94c",
   "metadata": {},
   "source": [
    "<h3>读取数据</h3>"
   ]
  },
  {
   "cell_type": "code",
   "execution_count": 34,
   "id": "95824996",
   "metadata": {
    "ExecuteTime": {
     "end_time": "2025-03-03T07:38:55.336777Z",
     "start_time": "2025-03-03T07:38:50.697336Z"
    }
   },
   "outputs": [
    {
     "data": {
      "text/plain": [
       "(3252327, 14)"
      ]
     },
     "execution_count": 34,
     "metadata": {},
     "output_type": "execute_result"
    }
   ],
   "source": [
    "train_rain = pd.read_csv(\"../data/A榜/train/A-雨量水位（2014-2019）.csv\")\n",
    "train_rain.shape"
   ]
  },
  {
   "cell_type": "markdown",
   "id": "489bcc73",
   "metadata": {},
   "source": [
    "<h3>数据预处理</h3>"
   ]
  },
  {
   "cell_type": "markdown",
   "id": "c6c2593a",
   "metadata": {},
   "source": [
    "<h4>时间预处理</h4>"
   ]
  },
  {
   "cell_type": "code",
   "execution_count": 35,
   "id": "ec8caed0",
   "metadata": {
    "ExecuteTime": {
     "end_time": "2025-03-03T07:38:57.361983Z",
     "start_time": "2025-03-03T07:38:55.338771Z"
    }
   },
   "outputs": [],
   "source": [
    "train_rain[\"TIME\"] = pd.to_datetime(train_rain[\"TIME\"])\n",
    "train_rain[\"year\"] = train_rain[\"TIME\"].dt.year\n",
    "train_rain[\"month\"] = train_rain[\"TIME\"].dt.month\n",
    "train_rain[\"day\"] = train_rain[\"TIME\"].dt.day\n",
    "train_rain[\"hour\"] = train_rain[\"TIME\"].dt.hour\n",
    "train_rain[\"minute\"] = train_rain[\"TIME\"].dt.minute\n",
    "train_rain[\"second\"] = train_rain[\"TIME\"].dt.second"
   ]
  },
  {
   "cell_type": "markdown",
   "id": "a6b4555d",
   "metadata": {},
   "source": [
    "<h3>探索性数据分析</h3>"
   ]
  },
  {
   "cell_type": "code",
   "execution_count": 36,
   "id": "a61e2e70",
   "metadata": {
    "ExecuteTime": {
     "end_time": "2025-03-03T07:38:57.377969Z",
     "start_time": "2025-03-03T07:38:57.364050Z"
    }
   },
   "outputs": [
    {
     "name": "stdout",
     "output_type": "stream",
     "text": [
      "<class 'pandas.core.frame.DataFrame'>\n",
      "RangeIndex: 3252327 entries, 0 to 3252326\n",
      "Data columns (total 20 columns):\n",
      " #   Column  Dtype         \n",
      "---  ------  -----         \n",
      " 0   NAME    object        \n",
      " 1   SENID   int64         \n",
      " 2   TIME    datetime64[ns]\n",
      " 3   V       float64       \n",
      " 4   AVGV    float64       \n",
      " 5   MAXV    float64       \n",
      " 6   MAXT    object        \n",
      " 7   MINV    float64       \n",
      " 8   MINT    object        \n",
      " 9   S       float64       \n",
      " 10  AVGS    float64       \n",
      " 11  MAXS    float64       \n",
      " 12  MINS    float64       \n",
      " 13  SPAN    int64         \n",
      " 14  year    int32         \n",
      " 15  month   int32         \n",
      " 16  day     int32         \n",
      " 17  hour    int32         \n",
      " 18  minute  int32         \n",
      " 19  second  int32         \n",
      "dtypes: datetime64[ns](1), float64(8), int32(6), int64(2), object(3)\n",
      "memory usage: 421.8+ MB\n"
     ]
    }
   ],
   "source": [
    "train_rain.info()"
   ]
  },
  {
   "cell_type": "code",
   "execution_count": 37,
   "id": "e6b1111a",
   "metadata": {
    "ExecuteTime": {
     "end_time": "2025-03-03T07:38:57.408971Z",
     "start_time": "2025-03-03T07:38:57.378972Z"
    }
   },
   "outputs": [],
   "source": [
    "train_rain_one = train_rain[(train_rain[\"SENID\"] == 210254) & (train_rain[\"year\"] == 2015) & (train_rain[\"month\"] == 9) & (train_rain[\"day\"] == 26)]"
   ]
  },
  {
   "cell_type": "code",
   "execution_count": 38,
   "id": "1b9df1ae",
   "metadata": {
    "ExecuteTime": {
     "end_time": "2025-03-03T07:38:57.423976Z",
     "start_time": "2025-03-03T07:38:57.410970Z"
    }
   },
   "outputs": [
    {
     "data": {
      "text/plain": [
       "(1, 20)"
      ]
     },
     "execution_count": 38,
     "metadata": {},
     "output_type": "execute_result"
    }
   ],
   "source": [
    "train_rain_one.shape"
   ]
  },
  {
   "cell_type": "code",
   "execution_count": 39,
   "id": "da1c6301",
   "metadata": {
    "ExecuteTime": {
     "end_time": "2025-03-03T07:38:57.439970Z",
     "start_time": "2025-03-03T07:38:57.424971Z"
    }
   },
   "outputs": [
    {
     "data": {
      "text/html": [
       "<div>\n",
       "<style scoped>\n",
       "    .dataframe tbody tr th:only-of-type {\n",
       "        vertical-align: middle;\n",
       "    }\n",
       "\n",
       "    .dataframe tbody tr th {\n",
       "        vertical-align: top;\n",
       "    }\n",
       "\n",
       "    .dataframe thead th {\n",
       "        text-align: right;\n",
       "    }\n",
       "</style>\n",
       "<table border=\"1\" class=\"dataframe\">\n",
       "  <thead>\n",
       "    <tr style=\"text-align: right;\">\n",
       "      <th></th>\n",
       "      <th>NAME</th>\n",
       "      <th>SENID</th>\n",
       "      <th>TIME</th>\n",
       "      <th>V</th>\n",
       "      <th>AVGV</th>\n",
       "      <th>MAXV</th>\n",
       "      <th>MAXT</th>\n",
       "      <th>MINV</th>\n",
       "      <th>MINT</th>\n",
       "      <th>S</th>\n",
       "      <th>AVGS</th>\n",
       "      <th>MAXS</th>\n",
       "      <th>MINS</th>\n",
       "      <th>SPAN</th>\n",
       "      <th>year</th>\n",
       "      <th>month</th>\n",
       "      <th>day</th>\n",
       "      <th>hour</th>\n",
       "      <th>minute</th>\n",
       "      <th>second</th>\n",
       "    </tr>\n",
       "  </thead>\n",
       "  <tbody>\n",
       "    <tr>\n",
       "      <th>15828</th>\n",
       "      <td>下洋坂雨量</td>\n",
       "      <td>210254</td>\n",
       "      <td>2015-09-26 03:00:00</td>\n",
       "      <td>1.0</td>\n",
       "      <td>1.0</td>\n",
       "      <td>1.0</td>\n",
       "      <td>2015/9/26 3:00:00</td>\n",
       "      <td>1.0</td>\n",
       "      <td>2015/9/26 3:00:00</td>\n",
       "      <td>1.0</td>\n",
       "      <td>1.0</td>\n",
       "      <td>2.0</td>\n",
       "      <td>2.0</td>\n",
       "      <td>1</td>\n",
       "      <td>2015</td>\n",
       "      <td>9</td>\n",
       "      <td>26</td>\n",
       "      <td>3</td>\n",
       "      <td>0</td>\n",
       "      <td>0</td>\n",
       "    </tr>\n",
       "  </tbody>\n",
       "</table>\n",
       "</div>"
      ],
      "text/plain": [
       "        NAME   SENID                TIME    V  AVGV  MAXV               MAXT  \\\n",
       "15828  下洋坂雨量  210254 2015-09-26 03:00:00  1.0   1.0   1.0  2015/9/26 3:00:00   \n",
       "\n",
       "       MINV               MINT    S  AVGS  MAXS  MINS  SPAN  year  month  day  \\\n",
       "15828   1.0  2015/9/26 3:00:00  1.0   1.0   2.0   2.0     1  2015      9   26   \n",
       "\n",
       "       hour  minute  second  \n",
       "15828     3       0       0  "
      ]
     },
     "execution_count": 39,
     "metadata": {},
     "output_type": "execute_result"
    }
   ],
   "source": [
    "train_rain_one.sort_values(\"TIME\")"
   ]
  },
  {
   "cell_type": "code",
   "execution_count": null,
   "id": "e06ccd26",
   "metadata": {},
   "outputs": [],
   "source": []
  }
 ],
 "metadata": {
  "kernelspec": {
   "display_name": "Python 3 (ipykernel)",
   "language": "python",
   "name": "python3"
  },
  "language_info": {
   "codemirror_mode": {
    "name": "ipython",
    "version": 3
   },
   "file_extension": ".py",
   "mimetype": "text/x-python",
   "name": "python",
   "nbconvert_exporter": "python",
   "pygments_lexer": "ipython3",
   "version": "3.10.11"
  },
  "toc": {
   "base_numbering": 1,
   "nav_menu": {},
   "number_sections": true,
   "sideBar": true,
   "skip_h1_title": false,
   "title_cell": "Table of Contents",
   "title_sidebar": "Contents",
   "toc_cell": false,
   "toc_position": {},
   "toc_section_display": true,
   "toc_window_display": true
  },
  "varInspector": {
   "cols": {
    "lenName": 16,
    "lenType": 16,
    "lenVar": 40
   },
   "kernels_config": {
    "python": {
     "delete_cmd_postfix": "",
     "delete_cmd_prefix": "del ",
     "library": "var_list.py",
     "varRefreshCmd": "print(var_dic_list())"
    },
    "r": {
     "delete_cmd_postfix": ") ",
     "delete_cmd_prefix": "rm(",
     "library": "var_list.r",
     "varRefreshCmd": "cat(var_dic_list()) "
    }
   },
   "types_to_exclude": [
    "module",
    "function",
    "builtin_function_or_method",
    "instance",
    "_Feature"
   ],
   "window_display": false
  }
 },
 "nbformat": 4,
 "nbformat_minor": 5
}
